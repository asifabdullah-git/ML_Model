{
 "cells": [
  {
   "cell_type": "code",
   "execution_count": 1,
   "metadata": {},
   "outputs": [],
   "source": [
    "import sklearn\n",
    "import pandas as pd\n",
    "from sklearn.model_selection import train_test_split\n",
    "from sklearn.preprocessing import LabelEncoder\n",
    "from sklearn import preprocessing\n",
    "import numpy as mp\n",
    "from sklearn.model_selection import KFold\n",
    "from sklearn.model_selection import cross_val_score\n",
    "from sklearn.linear_model import LinearRegression\n",
    "from sklearn.metrics import confusion_matrix, accuracy_score,f1_score\n",
    "from sklearn.metrics import classification_report\n",
    "from sklearn.metrics import precision_recall_curve\n",
    "import itertools\n",
    "%matplotlib inline\n",
    "import matplotlib.pyplot as plt\n",
    "\n",
    "\n",
    "\n",
    "\n",
    "from sklearn.metrics import accuracy_score\n",
    "from sklearn.naive_bayes import GaussianNB\n",
    "from sklearn.neural_network import MLPClassifier"
   ]
  },
  {
   "cell_type": "code",
   "execution_count": 2,
   "metadata": {},
   "outputs": [],
   "source": [
    "data = pd.read_csv(\"final_filter.csv\")\n",
    "#data.skew(axis = 0, skipna = True)"
   ]
  },
  {
   "cell_type": "code",
   "execution_count": 3,
   "metadata": {},
   "outputs": [
    {
     "data": {
      "text/html": [
       "<div>\n",
       "<style scoped>\n",
       "    .dataframe tbody tr th:only-of-type {\n",
       "        vertical-align: middle;\n",
       "    }\n",
       "\n",
       "    .dataframe tbody tr th {\n",
       "        vertical-align: top;\n",
       "    }\n",
       "\n",
       "    .dataframe thead th {\n",
       "        text-align: right;\n",
       "    }\n",
       "</style>\n",
       "<table border=\"1\" class=\"dataframe\">\n",
       "  <thead>\n",
       "    <tr style=\"text-align: right;\">\n",
       "      <th></th>\n",
       "      <th>location</th>\n",
       "      <th>mean_X</th>\n",
       "      <th>mean_Y</th>\n",
       "      <th>mean_Z</th>\n",
       "      <th>std_X</th>\n",
       "      <th>std_Y</th>\n",
       "      <th>std_Z</th>\n",
       "      <th>skew_X</th>\n",
       "      <th>skew_Y</th>\n",
       "      <th>skew_Z</th>\n",
       "      <th>label</th>\n",
       "    </tr>\n",
       "  </thead>\n",
       "  <tbody>\n",
       "    <tr>\n",
       "      <th>0</th>\n",
       "      <td>1</td>\n",
       "      <td>-0.023929</td>\n",
       "      <td>0.112579</td>\n",
       "      <td>-0.990092</td>\n",
       "      <td>0.157646</td>\n",
       "      <td>0.188360</td>\n",
       "      <td>0.101932</td>\n",
       "      <td>-0.443176</td>\n",
       "      <td>2.052829</td>\n",
       "      <td>0.103822</td>\n",
       "      <td>11</td>\n",
       "    </tr>\n",
       "    <tr>\n",
       "      <th>1</th>\n",
       "      <td>1</td>\n",
       "      <td>-0.037360</td>\n",
       "      <td>-0.007463</td>\n",
       "      <td>-0.996015</td>\n",
       "      <td>0.090459</td>\n",
       "      <td>0.118507</td>\n",
       "      <td>0.076649</td>\n",
       "      <td>0.666670</td>\n",
       "      <td>-0.122277</td>\n",
       "      <td>0.050711</td>\n",
       "      <td>11</td>\n",
       "    </tr>\n",
       "    <tr>\n",
       "      <th>2</th>\n",
       "      <td>1</td>\n",
       "      <td>-0.089317</td>\n",
       "      <td>-0.017025</td>\n",
       "      <td>-0.990883</td>\n",
       "      <td>0.091634</td>\n",
       "      <td>0.100888</td>\n",
       "      <td>0.082321</td>\n",
       "      <td>-0.565520</td>\n",
       "      <td>-0.045078</td>\n",
       "      <td>1.029924</td>\n",
       "      <td>11</td>\n",
       "    </tr>\n",
       "    <tr>\n",
       "      <th>3</th>\n",
       "      <td>1</td>\n",
       "      <td>-0.101585</td>\n",
       "      <td>-0.027065</td>\n",
       "      <td>-0.996976</td>\n",
       "      <td>0.092982</td>\n",
       "      <td>0.100444</td>\n",
       "      <td>0.078133</td>\n",
       "      <td>-0.378990</td>\n",
       "      <td>-0.160353</td>\n",
       "      <td>-0.628184</td>\n",
       "      <td>11</td>\n",
       "    </tr>\n",
       "    <tr>\n",
       "      <th>4</th>\n",
       "      <td>1</td>\n",
       "      <td>-0.099574</td>\n",
       "      <td>-0.008085</td>\n",
       "      <td>-1.003562</td>\n",
       "      <td>0.076271</td>\n",
       "      <td>0.119020</td>\n",
       "      <td>0.059293</td>\n",
       "      <td>-0.111909</td>\n",
       "      <td>-0.189929</td>\n",
       "      <td>-0.381072</td>\n",
       "      <td>11</td>\n",
       "    </tr>\n",
       "  </tbody>\n",
       "</table>\n",
       "</div>"
      ],
      "text/plain": [
       "   location    mean_X    mean_Y    mean_Z     std_X     std_Y     std_Z  \\\n",
       "0         1 -0.023929  0.112579 -0.990092  0.157646  0.188360  0.101932   \n",
       "1         1 -0.037360 -0.007463 -0.996015  0.090459  0.118507  0.076649   \n",
       "2         1 -0.089317 -0.017025 -0.990883  0.091634  0.100888  0.082321   \n",
       "3         1 -0.101585 -0.027065 -0.996976  0.092982  0.100444  0.078133   \n",
       "4         1 -0.099574 -0.008085 -1.003562  0.076271  0.119020  0.059293   \n",
       "\n",
       "     skew_X    skew_Y    skew_Z  label  \n",
       "0 -0.443176  2.052829  0.103822     11  \n",
       "1  0.666670 -0.122277  0.050711     11  \n",
       "2 -0.565520 -0.045078  1.029924     11  \n",
       "3 -0.378990 -0.160353 -0.628184     11  \n",
       "4 -0.111909 -0.189929 -0.381072     11  "
      ]
     },
     "execution_count": 3,
     "metadata": {},
     "output_type": "execute_result"
    }
   ],
   "source": [
    "data.head()"
   ]
  },
  {
   "cell_type": "code",
   "execution_count": 4,
   "metadata": {},
   "outputs": [
    {
     "data": {
      "text/plain": [
       "Index(['location', 'mean_X', 'mean_Y', 'mean_Z', 'std_X', 'std_Y', 'std_Z',\n",
       "       'skew_X', 'skew_Y', 'skew_Z', 'label'],\n",
       "      dtype='object')"
      ]
     },
     "execution_count": 4,
     "metadata": {},
     "output_type": "execute_result"
    }
   ],
   "source": [
    "features = data.columns\n",
    "features"
   ]
  },
  {
   "cell_type": "code",
   "execution_count": 5,
   "metadata": {},
   "outputs": [
    {
     "data": {
      "text/plain": [
       "['location',\n",
       " 'mean_X',\n",
       " 'mean_Y',\n",
       " 'mean_Z',\n",
       " 'std_X',\n",
       " 'std_Y',\n",
       " 'std_Z',\n",
       " 'skew_X',\n",
       " 'skew_Y',\n",
       " 'skew_Z']"
      ]
     },
     "execution_count": 5,
     "metadata": {},
     "output_type": "execute_result"
    }
   ],
   "source": [
    "features = [x for x in features if x != 'label']\n",
    "features"
   ]
  },
  {
   "cell_type": "code",
   "execution_count": null,
   "metadata": {},
   "outputs": [],
   "source": []
  },
  {
   "cell_type": "code",
   "execution_count": 6,
   "metadata": {},
   "outputs": [
    {
     "name": "stdout",
     "output_type": "stream",
     "text": [
      "3392\n",
      "3154\n",
      "238\n"
     ]
    }
   ],
   "source": [
    "train, test = train_test_split(data, test_size = 0.07)\n",
    "print(len(data))\n",
    "print(len(train))\n",
    "print(len(test))\n"
   ]
  },
  {
   "cell_type": "code",
   "execution_count": 7,
   "metadata": {},
   "outputs": [],
   "source": [
    "x_train = train[features]\n",
    "y_train = train[\"label\"]\n",
    "\n",
    "x_test = test[features]\n",
    "y_test = test[\"label\"]"
   ]
  },
  {
   "cell_type": "code",
   "execution_count": 8,
   "metadata": {
    "scrolled": true
   },
   "outputs": [],
   "source": [
    "#kf = KFold(n_splits = 5,shuffle=True,random_state=1)\n",
    "#lr = LinearRegression()\n",
    "#cv_scores = cross_val_score(lr,x_train,y_train,cv=kf)\n",
    "#while i<=4:\n",
    "#    cv_scores[i]\n",
    "\n",
    "#    i+=1"
   ]
  },
  {
   "cell_type": "code",
   "execution_count": 9,
   "metadata": {},
   "outputs": [],
   "source": [
    "\n",
    "#for i in cv_scores:\n",
    " #   train, test = train_test_split(data, test_size = cv_scores[i]\n",
    "  #  len(data[i]) \n",
    "   # len(train[i])\n",
    "    #len(test[i])     '''                          "
   ]
  },
  {
   "cell_type": "code",
   "execution_count": 10,
   "metadata": {},
   "outputs": [],
   "source": [
    "x_train = train[features]\n",
    "y_train = train[\"label\"]\n",
    "\n",
    "x_test = test[features]\n",
    "y_test = test[\"label\"]"
   ]
  },
  {
   "cell_type": "code",
   "execution_count": 11,
   "metadata": {},
   "outputs": [
    {
     "name": "stderr",
     "output_type": "stream",
     "text": [
      "c:\\users\\asus\\appdata\\local\\programs\\python\\python36\\lib\\site-packages\\sklearn\\neural_network\\multilayer_perceptron.py:566: ConvergenceWarning: Stochastic Optimizer: Maximum iterations (200) reached and the optimization hasn't converged yet.\n",
      "  % self.max_iter, ConvergenceWarning)\n"
     ]
    }
   ],
   "source": [
    "NN=MLPClassifier(activation = 'relu', solver='adam', alpha=0.01,\n",
    "                    hidden_layer_sizes=(50, 50), random_state=1)\n",
    "NN= NN.fit(x_train,y_train)\n"
   ]
  },
  {
   "cell_type": "code",
   "execution_count": 12,
   "metadata": {},
   "outputs": [],
   "source": [
    "y_pred=NN.predict(x_test)\n"
   ]
  },
  {
   "cell_type": "code",
   "execution_count": 13,
   "metadata": {},
   "outputs": [
    {
     "data": {
      "text/plain": [
       "array([11, 23, 31, 21, 33, 15, 11, 13, 11, 11, 11, 11, 12, 11, 14, 31, 15,\n",
       "       12, 15, 14, 21, 22, 21, 21, 15, 14, 22, 11, 11, 11, 13, 21, 11, 21,\n",
       "       33, 15, 12, 15, 23, 33, 13, 31, 33, 15, 13, 12, 13, 14, 21, 33, 33,\n",
       "       23, 14, 11, 31, 32, 21, 11, 12, 14, 21, 12, 32, 11, 15, 33, 11, 13,\n",
       "       11, 23, 15, 11, 15, 33, 21, 21, 21, 15, 11, 22, 15, 13, 15, 13, 12,\n",
       "       15, 22, 11, 15, 15, 11, 11, 13, 33, 12, 13, 31, 33, 21, 31, 14, 12,\n",
       "       23, 12, 15, 21, 15, 12, 21, 15, 31, 33, 13, 21, 13, 33, 13, 15, 15,\n",
       "       14, 15, 13, 31, 22, 12, 21, 15, 21, 33, 11, 15, 11, 11, 21, 21, 21,\n",
       "       12, 11, 15, 31, 11, 21, 14, 12, 14, 22, 14, 31, 12, 14, 12, 11, 12,\n",
       "       11, 31, 11, 11, 11, 11, 14, 11, 32, 14, 32, 13, 21, 11, 11, 33, 33,\n",
       "       11, 11, 32, 13, 15, 31, 15, 13, 31, 12, 22, 31, 12, 14, 32, 21, 33,\n",
       "       33, 14, 13, 21, 21, 22, 12, 14, 33, 15, 13, 22, 13, 33, 12, 15, 14,\n",
       "       11, 14, 14, 23, 31, 31, 33, 11, 13, 14, 14, 12, 31, 14, 11, 31, 14,\n",
       "       22, 31, 15, 33, 12, 11, 21, 12, 15, 12, 31, 23, 15, 33, 15, 22, 23],\n",
       "      dtype=int64)"
      ]
     },
     "execution_count": 13,
     "metadata": {},
     "output_type": "execute_result"
    }
   ],
   "source": [
    "y_pred"
   ]
  },
  {
   "cell_type": "code",
   "execution_count": 14,
   "metadata": {},
   "outputs": [],
   "source": [
    "kf = KFold(n_splits = 5,shuffle=True,random_state=1)\n",
    "lr = LinearRegression()\n",
    "cv_scores = cross_val_score(lr,x_train,y_train,cv=kf)"
   ]
  },
  {
   "cell_type": "code",
   "execution_count": null,
   "metadata": {},
   "outputs": [],
   "source": []
  },
  {
   "cell_type": "code",
   "execution_count": 15,
   "metadata": {},
   "outputs": [
    {
     "name": "stdout",
     "output_type": "stream",
     "text": [
      "Accuracy using Neural Network:  93.27731092436974 %\n"
     ]
    }
   ],
   "source": [
    "from sklearn.metrics import accuracy_score\n",
    "cv_scores = accuracy_score(y_test, y_pred) * 100\n",
    "print(\"Accuracy using Neural Network: \", cv_scores, \"%\" )"
   ]
  },
  {
   "cell_type": "code",
   "execution_count": 16,
   "metadata": {},
   "outputs": [
    {
     "name": "stdout",
     "output_type": "stream",
     "text": [
      "F1 score:  0.9327731092436976\n",
      "Precision:  0.9526437162246476\n",
      "recall:  0.9441790235907882\n",
      "\n",
      "confusion matrix: \n",
      " [[32  0  0  0  3  0  0  0  0  0  0]\n",
      " [ 1 25  1  0  1  0  0  0  0  0  0]\n",
      " [ 1  0 20  0  0  0  0  0  0  0  0]\n",
      " [ 3  0  0 23  0  0  0  0  0  0  0]\n",
      " [ 4  0  0  1 29  0  0  0  0  0  0]\n",
      " [ 0  0  0  0  0 27  0  0  0  0  0]\n",
      " [ 0  0  0  0  0  0 10  0  0  0  0]\n",
      " [ 0  0  0  0  0  0  1  8  0  0  0]\n",
      " [ 0  0  0  0  0  0  0  0 20  0  0]\n",
      " [ 0  0  0  0  0  0  0  0  0  6  0]\n",
      " [ 0  0  0  0  0  0  0  0  0  0 22]]\n"
     ]
    }
   ],
   "source": [
    "from sklearn.metrics import confusion_matrix, accuracy_score,f1_score,precision_score,recall_score\n",
    "from sklearn.metrics import classification_report\n",
    "from sklearn.metrics import precision_recall_curve\n",
    "\n",
    "c = confusion_matrix(y_test,y_pred)\n",
    "f1 = f1_score(y_test,y_pred,average=\"micro\")\n",
    "p = precision_score(y_test, y_pred, average=\"macro\")\n",
    "r = recall_score(y_test,y_pred,average=\"macro\")\n",
    "\n",
    "print(\"F1 score: \", f1)\n",
    "print(\"Precision: \" , p)\n",
    "print(\"recall: \" , r)\n",
    "print(\"\\nconfusion matrix: \\n\" , c)"
   ]
  },
  {
   "cell_type": "code",
   "execution_count": null,
   "metadata": {},
   "outputs": [],
   "source": []
  }
 ],
 "metadata": {
  "kernelspec": {
   "display_name": "Python 3",
   "language": "python",
   "name": "python3"
  },
  "language_info": {
   "codemirror_mode": {
    "name": "ipython",
    "version": 3
   },
   "file_extension": ".py",
   "mimetype": "text/x-python",
   "name": "python",
   "nbconvert_exporter": "python",
   "pygments_lexer": "ipython3",
   "version": "3.6.9"
  }
 },
 "nbformat": 4,
 "nbformat_minor": 2
}
