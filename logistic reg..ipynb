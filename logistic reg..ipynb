{
 "cells": [
  {
   "cell_type": "code",
   "execution_count": 1,
   "metadata": {},
   "outputs": [],
   "source": [
    "import numpy as np\n",
    "import matplotlib.pyplot as plt\n",
    "import pandas as pd"
   ]
  },
  {
   "cell_type": "code",
   "execution_count": 2,
   "metadata": {},
   "outputs": [
    {
     "data": {
      "text/html": [
       "<div>\n",
       "<style scoped>\n",
       "    .dataframe tbody tr th:only-of-type {\n",
       "        vertical-align: middle;\n",
       "    }\n",
       "\n",
       "    .dataframe tbody tr th {\n",
       "        vertical-align: top;\n",
       "    }\n",
       "\n",
       "    .dataframe thead th {\n",
       "        text-align: right;\n",
       "    }\n",
       "</style>\n",
       "<table border=\"1\" class=\"dataframe\">\n",
       "  <thead>\n",
       "    <tr style=\"text-align: right;\">\n",
       "      <th></th>\n",
       "      <th>location</th>\n",
       "      <th>mean_X</th>\n",
       "      <th>mean_Y</th>\n",
       "      <th>mean_Z</th>\n",
       "      <th>std_X</th>\n",
       "      <th>std_Y</th>\n",
       "      <th>std_Z</th>\n",
       "      <th>skew_X</th>\n",
       "      <th>skew_Y</th>\n",
       "      <th>skew_Z</th>\n",
       "      <th>label</th>\n",
       "    </tr>\n",
       "  </thead>\n",
       "  <tbody>\n",
       "    <tr>\n",
       "      <td>0</td>\n",
       "      <td>1</td>\n",
       "      <td>-0.023929</td>\n",
       "      <td>0.112579</td>\n",
       "      <td>-0.990092</td>\n",
       "      <td>0.157646</td>\n",
       "      <td>0.188360</td>\n",
       "      <td>0.101932</td>\n",
       "      <td>-0.443176</td>\n",
       "      <td>2.052829</td>\n",
       "      <td>0.103822</td>\n",
       "      <td>11</td>\n",
       "    </tr>\n",
       "    <tr>\n",
       "      <td>1</td>\n",
       "      <td>1</td>\n",
       "      <td>-0.037360</td>\n",
       "      <td>-0.007463</td>\n",
       "      <td>-0.996015</td>\n",
       "      <td>0.090459</td>\n",
       "      <td>0.118507</td>\n",
       "      <td>0.076649</td>\n",
       "      <td>0.666670</td>\n",
       "      <td>-0.122277</td>\n",
       "      <td>0.050711</td>\n",
       "      <td>11</td>\n",
       "    </tr>\n",
       "    <tr>\n",
       "      <td>2</td>\n",
       "      <td>1</td>\n",
       "      <td>-0.089317</td>\n",
       "      <td>-0.017025</td>\n",
       "      <td>-0.990883</td>\n",
       "      <td>0.091634</td>\n",
       "      <td>0.100888</td>\n",
       "      <td>0.082321</td>\n",
       "      <td>-0.565520</td>\n",
       "      <td>-0.045078</td>\n",
       "      <td>1.029924</td>\n",
       "      <td>11</td>\n",
       "    </tr>\n",
       "    <tr>\n",
       "      <td>3</td>\n",
       "      <td>1</td>\n",
       "      <td>-0.101585</td>\n",
       "      <td>-0.027065</td>\n",
       "      <td>-0.996976</td>\n",
       "      <td>0.092982</td>\n",
       "      <td>0.100444</td>\n",
       "      <td>0.078133</td>\n",
       "      <td>-0.378990</td>\n",
       "      <td>-0.160353</td>\n",
       "      <td>-0.628184</td>\n",
       "      <td>11</td>\n",
       "    </tr>\n",
       "    <tr>\n",
       "      <td>4</td>\n",
       "      <td>1</td>\n",
       "      <td>-0.099574</td>\n",
       "      <td>-0.008085</td>\n",
       "      <td>-1.003562</td>\n",
       "      <td>0.076271</td>\n",
       "      <td>0.119020</td>\n",
       "      <td>0.059293</td>\n",
       "      <td>-0.111909</td>\n",
       "      <td>-0.189929</td>\n",
       "      <td>-0.381072</td>\n",
       "      <td>11</td>\n",
       "    </tr>\n",
       "  </tbody>\n",
       "</table>\n",
       "</div>"
      ],
      "text/plain": [
       "   location    mean_X    mean_Y    mean_Z     std_X     std_Y     std_Z  \\\n",
       "0         1 -0.023929  0.112579 -0.990092  0.157646  0.188360  0.101932   \n",
       "1         1 -0.037360 -0.007463 -0.996015  0.090459  0.118507  0.076649   \n",
       "2         1 -0.089317 -0.017025 -0.990883  0.091634  0.100888  0.082321   \n",
       "3         1 -0.101585 -0.027065 -0.996976  0.092982  0.100444  0.078133   \n",
       "4         1 -0.099574 -0.008085 -1.003562  0.076271  0.119020  0.059293   \n",
       "\n",
       "     skew_X    skew_Y    skew_Z  label  \n",
       "0 -0.443176  2.052829  0.103822     11  \n",
       "1  0.666670 -0.122277  0.050711     11  \n",
       "2 -0.565520 -0.045078  1.029924     11  \n",
       "3 -0.378990 -0.160353 -0.628184     11  \n",
       "4 -0.111909 -0.189929 -0.381072     11  "
      ]
     },
     "execution_count": 2,
     "metadata": {},
     "output_type": "execute_result"
    }
   ],
   "source": [
    "data = pd.read_csv(\"final_filter.csv\")\n",
    "data.head(5)"
   ]
  },
  {
   "cell_type": "code",
   "execution_count": 6,
   "metadata": {},
   "outputs": [],
   "source": [
    "X = data.iloc[ : ,   : 10 ]\n",
    "y = data.iloc[ :,-1 ]"
   ]
  },
  {
   "cell_type": "code",
   "execution_count": 7,
   "metadata": {},
   "outputs": [],
   "source": [
    "from sklearn.model_selection import train_test_split \n",
    "X_train, X_test, y_train, y_test = train_test_split(X, y, test_size = 0.25, random_state = 0)"
   ]
  },
  {
   "cell_type": "code",
   "execution_count": 8,
   "metadata": {},
   "outputs": [],
   "source": [
    "from sklearn.preprocessing import StandardScaler\n",
    "sc = StandardScaler()\n",
    "X_train = sc.fit_transform(X_train)\n",
    "X_test = sc.transform(X_test)"
   ]
  },
  {
   "cell_type": "code",
   "execution_count": 9,
   "metadata": {},
   "outputs": [
    {
     "name": "stderr",
     "output_type": "stream",
     "text": [
      "C:\\ProgramData\\Anaconda3\\lib\\site-packages\\sklearn\\linear_model\\logistic.py:432: FutureWarning: Default solver will be changed to 'lbfgs' in 0.22. Specify a solver to silence this warning.\n",
      "  FutureWarning)\n",
      "C:\\ProgramData\\Anaconda3\\lib\\site-packages\\sklearn\\linear_model\\logistic.py:469: FutureWarning: Default multi_class will be changed to 'auto' in 0.22. Specify the multi_class option to silence this warning.\n",
      "  \"this warning.\", FutureWarning)\n"
     ]
    },
    {
     "data": {
      "text/plain": [
       "LogisticRegression(C=1.0, class_weight=None, dual=False, fit_intercept=True,\n",
       "                   intercept_scaling=1, l1_ratio=None, max_iter=100,\n",
       "                   multi_class='warn', n_jobs=None, penalty='l2',\n",
       "                   random_state=None, solver='warn', tol=0.0001, verbose=0,\n",
       "                   warm_start=False)"
      ]
     },
     "execution_count": 9,
     "metadata": {},
     "output_type": "execute_result"
    }
   ],
   "source": [
    "from sklearn.linear_model import LogisticRegression\n",
    "classifier = LogisticRegression()\n",
    "classifier.fit(X_train, y_train)"
   ]
  },
  {
   "cell_type": "code",
   "execution_count": 10,
   "metadata": {},
   "outputs": [],
   "source": [
    "y_pred = classifier.predict(X_test)"
   ]
  },
  {
   "cell_type": "code",
   "execution_count": 11,
   "metadata": {},
   "outputs": [],
   "source": [
    "from sklearn.metrics import confusion_matrix\n",
    "cm = confusion_matrix(y_test, y_pred)"
   ]
  },
  {
   "cell_type": "code",
   "execution_count": 12,
   "metadata": {},
   "outputs": [
    {
     "data": {
      "text/plain": [
       "array([[136,   0,   1,  10,  18,   0,   0,   0,   0,   0,   0],\n",
       "       [  2,  84,   1,   0,   6,   0,   0,   0,   0,   0,   0],\n",
       "       [  0,   0,  61,   0,   2,   0,   0,   0,   0,   0,   0],\n",
       "       [  7,   0,   0,  71,   5,   0,   0,   0,   0,   0,   0],\n",
       "       [ 41,   0,   0,   2,  79,   0,   0,   0,   0,   0,   0],\n",
       "       [  3,   0,   0,   0,   0, 104,   0,   0,   0,   0,   2],\n",
       "       [  0,   0,   0,   0,   0,   5,  12,   8,   2,   0,   0],\n",
       "       [  0,   0,   1,   0,   0,   6,   2,  17,   0,   0,   0],\n",
       "       [  0,   0,   0,   0,   0,   9,   0,   0,  57,   0,   0],\n",
       "       [  0,   0,   0,   0,   0,   0,   0,   0,   0,  20,   0],\n",
       "       [  0,   0,   0,   0,   0,   1,   0,   0,   0,   0,  73]],\n",
       "      dtype=int64)"
      ]
     },
     "execution_count": 12,
     "metadata": {},
     "output_type": "execute_result"
    }
   ],
   "source": [
    "cm"
   ]
  }
 ],
 "metadata": {
  "kernelspec": {
   "display_name": "Python 3",
   "language": "python",
   "name": "python3"
  },
  "language_info": {
   "codemirror_mode": {
    "name": "ipython",
    "version": 3
   },
   "file_extension": ".py",
   "mimetype": "text/x-python",
   "name": "python",
   "nbconvert_exporter": "python",
   "pygments_lexer": "ipython3",
   "version": "3.6.9"
  }
 },
 "nbformat": 4,
 "nbformat_minor": 2
}
