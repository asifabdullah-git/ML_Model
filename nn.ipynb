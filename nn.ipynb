{
 "cells": [
  {
   "cell_type": "code",
   "execution_count": 1,
   "metadata": {},
   "outputs": [],
   "source": [
    "import pandas as pd\n",
    "import numpy as mp\n"
   ]
  },
  {
   "cell_type": "code",
   "execution_count": 2,
   "metadata": {},
   "outputs": [
    {
     "name": "stdout",
     "output_type": "stream",
     "text": [
      "      location    mean_X    mean_Y    mean_Z     std_X     std_Y     std_Z  \\\n",
      "2586         2 -0.166218  0.741565 -0.274216  0.367640  0.331478  0.432264   \n",
      "1752         1 -0.031501  0.110551 -0.984593  0.063066  0.080513  0.069576   \n",
      "3349         3  0.018262  0.513564 -0.854313  0.015786  0.055122  0.044759   \n",
      "2187         2  0.640187  0.717811  0.170213  0.083785  0.120145  0.173563   \n",
      "751          1  0.345142  0.737243 -0.434588  0.047831  0.327853  0.252273   \n",
      "...        ...       ...       ...       ...       ...       ...       ...   \n",
      "828          1  0.295562  0.557944 -0.602977  0.072749  0.385935  0.268054   \n",
      "3299         3 -0.059503  0.658273 -0.750939  0.054313  0.081193  0.090754   \n",
      "138          1  0.131733  0.451024 -0.888145  0.022883  0.040484  0.016916   \n",
      "3020         3 -0.941485  0.184507 -0.328145  0.455337  0.385626  0.271059   \n",
      "1724         1 -0.017724  0.156339 -1.006215  0.075337  0.069647  0.075446   \n",
      "\n",
      "        skew_X    skew_Y    skew_Z  label  \n",
      "2586 -0.317013 -0.825197  0.475958     22  \n",
      "1752 -2.651486 -0.189325  0.969762     15  \n",
      "3349 -0.097865 -0.389900  0.424951     33  \n",
      "2187 -0.361379  0.701463 -0.848525     21  \n",
      "751   1.024308 -1.669549 -1.370273     12  \n",
      "...        ...       ...       ...    ...  \n",
      "828  -0.605226 -1.207259  0.499851     12  \n",
      "3299 -0.347060  0.261379  0.111002     33  \n",
      "138  -0.219537  0.164857  0.185980     11  \n",
      "3020  0.761957  0.507555 -0.482209     31  \n",
      "1724  0.167856  0.575590  0.218851     15  \n",
      "\n",
      "[3392 rows x 11 columns]\n"
     ]
    }
   ],
   "source": [
    "data = pd.read_csv('final_filter.csv')\n",
    "#data\n",
    "data = data.iloc[mp.random.permutation(len(data))]\n",
    "print(data)"
   ]
  },
  {
   "cell_type": "markdown",
   "metadata": {},
   "source": []
  },
  {
   "cell_type": "code",
   "execution_count": 3,
   "metadata": {},
   "outputs": [
    {
     "data": {
      "text/plain": [
       "array([[ 2.00000000e+00, -1.66217957e-01,  7.41565399e-01, ...,\n",
       "        -8.25197156e-01,  4.75957645e-01,  2.20000000e+01],\n",
       "       [ 1.00000000e+00, -3.15008550e-02,  1.10550537e-01, ...,\n",
       "        -1.89325302e-01,  9.69762426e-01,  1.50000000e+01],\n",
       "       [ 3.00000000e+00,  1.82622600e-02,  5.13564220e-01, ...,\n",
       "        -3.89900259e-01,  4.24950926e-01,  3.30000000e+01],\n",
       "       ...,\n",
       "       [ 1.00000000e+00,  1.31732750e-01,  4.51023880e-01, ...,\n",
       "         1.64856726e-01,  1.85979626e-01,  1.10000000e+01],\n",
       "       [ 3.00000000e+00, -9.41485110e-01,  1.84506860e-01, ...,\n",
       "         5.07555463e-01, -4.82209391e-01,  3.10000000e+01],\n",
       "       [ 1.00000000e+00, -1.77239990e-02,  1.56338806e-01, ...,\n",
       "         5.75589974e-01,  2.18851454e-01,  1.50000000e+01]])"
      ]
     },
     "execution_count": 3,
     "metadata": {},
     "output_type": "execute_result"
    }
   ],
   "source": [
    "dataset = data.values\n",
    "dataset"
   ]
  },
  {
   "cell_type": "code",
   "execution_count": 4,
   "metadata": {},
   "outputs": [],
   "source": [
    "X = dataset[:,0:7]\n",
    "Y = dataset[:,7]"
   ]
  },
  {
   "cell_type": "code",
   "execution_count": 5,
   "metadata": {},
   "outputs": [],
   "source": [
    "from sklearn import preprocessing"
   ]
  },
  {
   "cell_type": "code",
   "execution_count": 6,
   "metadata": {},
   "outputs": [],
   "source": [
    "min_max_scaler = preprocessing.MinMaxScaler()\n",
    "X_scale = min_max_scaler.fit_transform(X)"
   ]
  },
  {
   "cell_type": "code",
   "execution_count": 7,
   "metadata": {},
   "outputs": [],
   "source": [
    "from sklearn.model_selection import train_test_split"
   ]
  },
  {
   "cell_type": "code",
   "execution_count": 8,
   "metadata": {},
   "outputs": [],
   "source": [
    "X_train, X_val_and_test, Y_train, Y_val_and_test = train_test_split(X_scale, Y, test_size=0.3)"
   ]
  },
  {
   "cell_type": "code",
   "execution_count": 9,
   "metadata": {},
   "outputs": [],
   "source": [
    "X_val, X_test, Y_val, Y_test = train_test_split(X_val_and_test, Y_val_and_test, test_size=0.5)"
   ]
  },
  {
   "cell_type": "code",
   "execution_count": 10,
   "metadata": {},
   "outputs": [
    {
     "name": "stdout",
     "output_type": "stream",
     "text": [
      "(2374, 7) (509, 7) (509, 7) (2374,) (509,) (509,)\n"
     ]
    }
   ],
   "source": [
    "print(X_train.shape, X_val.shape, X_test.shape, Y_train.shape, Y_val.shape, Y_test.shape)"
   ]
  },
  {
   "cell_type": "code",
   "execution_count": 11,
   "metadata": {},
   "outputs": [
    {
     "name": "stderr",
     "output_type": "stream",
     "text": [
      "Using TensorFlow backend.\n"
     ]
    }
   ],
   "source": [
    "from keras.datasets import mnist\n",
    "from keras.models import Sequential\n",
    "from keras.layers.core import Dense\n",
    "from keras.utils import np_utils"
   ]
  },
  {
   "cell_type": "code",
   "execution_count": 12,
   "metadata": {},
   "outputs": [],
   "source": [
    "model = Sequential([    Dense(32, activation='relu', input_shape=(7,)),    \n",
    "                    Dense(8, activation='relu'),    \n",
    "                    Dense(1, activation='sigmoid'),])\n"
   ]
  },
  {
   "cell_type": "code",
   "execution_count": 13,
   "metadata": {},
   "outputs": [],
   "source": [
    "model.compile(optimizer='sgd', loss='binary_crossentropy', metrics=['accuracy'])\n",
    "#model.compile(loss='binary_crossentropy', optimizer='adam', metrics=['accuracy'])\n"
   ]
  },
  {
   "cell_type": "code",
   "execution_count": 14,
   "metadata": {},
   "outputs": [],
   "source": [
    "#batch_size = 128\n",
    "#nb_classes = 10\n",
    "#nb_epochs = 2\n",
    "\n",
    "#(X_train, y_train), (X_test, y_test) = mnist.load_data()\n",
    "\n",
    "#X_train = X_train.reshape(60000, 784)\n",
    "#X_test = X_test.reshape(10000, 784)\n",
    "#X_train = X_train.astype(\"float32\")\n",
    "#X_test = X_test.astype(\"float32\")\n",
    "#X_train /= 255\n",
    "#X_test /= 255\n",
    "\n",
    "#print(X_train.shape[0], \"train samples\")\n",
    "#print(X_test.shape[0], \"test samples\")"
   ]
  },
  {
   "cell_type": "code",
   "execution_count": 15,
   "metadata": {},
   "outputs": [],
   "source": [
    "#y_train = np_utils.to_categorical(y_train, nb_classes)\n",
    "#y_test =  np_utils.to_categorical(y_test, nb_classes)\n",
    "\n",
    "#model = Sequential()\n",
    "\n",
    "#model.add(Dense(output_dim = 100, input_dim = 784, activation= \"relu\"))\n",
    "#model.add(Dense(output_dim = 200, activation = \"relu\"))\n",
    "#model.add(Dense(output_dim = 200, activation = \"relu\"))\n",
    "#model.add(Dense(output_dim = nb_classes, activation = \"softmax\"))"
   ]
  },
  {
   "cell_type": "code",
   "execution_count": 16,
   "metadata": {},
   "outputs": [],
   "source": [
    "#model.compile(optimizer = \"adam\", loss = \"categorical_crossentropy\",  metrics=\"accuracy\")\n",
    "\n",
    "#model.fit(X_train, y_train, batch_size = batch_size, nb_epoch = nb_epochs,  verbose = 2, validation_data = (X_test, y_test))\n",
    "#score = model.evaluate(X_test, y_test, verbose = 0)\n"
   ]
  },
  {
   "cell_type": "code",
   "execution_count": 17,
   "metadata": {},
   "outputs": [
    {
     "name": "stdout",
     "output_type": "stream",
     "text": [
      "Train on 2374 samples, validate on 509 samples\n",
      "Epoch 1/100\n",
      "2374/2374 [==============================] - 2s 1ms/step - loss: 0.5262 - accuracy: 0.0000e+00 - val_loss: 0.4239 - val_accuracy: 0.0000e+00\n",
      "Epoch 2/100\n",
      "2374/2374 [==============================] - 0s 134us/step - loss: 0.3276 - accuracy: 0.0000e+00 - val_loss: 0.3184 - val_accuracy: 0.0000e+00\n",
      "Epoch 3/100\n",
      "2374/2374 [==============================] - 0s 103us/step - loss: 0.2381 - accuracy: 0.0000e+00 - val_loss: 0.2790 - val_accuracy: 0.0000e+00\n",
      "Epoch 4/100\n",
      "2374/2374 [==============================] - 0s 118us/step - loss: 0.1966 - accuracy: 0.0000e+00 - val_loss: 0.2679 - val_accuracy: 0.0000e+00\n",
      "Epoch 5/100\n",
      "2374/2374 [==============================] - 0s 150us/step - loss: 0.1769 - accuracy: 0.0000e+00 - val_loss: 0.2637 - val_accuracy: 0.0000e+00\n",
      "Epoch 6/100\n",
      "2374/2374 [==============================] - 0s 151us/step - loss: 0.1585 - accuracy: 0.0000e+00 - val_loss: 0.2536 - val_accuracy: 0.0000e+00\n",
      "Epoch 7/100\n",
      "2374/2374 [==============================] - 0s 111us/step - loss: 0.1374 - accuracy: 0.0000e+00 - val_loss: 0.2431 - val_accuracy: 0.0000e+00\n",
      "Epoch 8/100\n",
      "2374/2374 [==============================] - 0s 150us/step - loss: 0.1043 - accuracy: 0.0000e+00 - val_loss: 0.2177 - val_accuracy: 0.0000e+00\n",
      "Epoch 9/100\n",
      "2374/2374 [==============================] - 1s 220us/step - loss: 0.0583 - accuracy: 0.0000e+00 - val_loss: 0.1903 - val_accuracy: 0.0000e+00\n",
      "Epoch 10/100\n",
      "2374/2374 [==============================] - 0s 181us/step - loss: -0.0149 - accuracy: 0.0000e+00 - val_loss: 0.1504 - val_accuracy: 0.0000e+00\n",
      "Epoch 11/100\n",
      "2374/2374 [==============================] - 0s 191us/step - loss: -0.1349 - accuracy: 0.0000e+00 - val_loss: 0.0686 - val_accuracy: 0.0000e+00\n",
      "Epoch 12/100\n",
      "2374/2374 [==============================] - 0s 97us/step - loss: -0.3758 - accuracy: 0.0000e+00 - val_loss: -0.0599 - val_accuracy: 0.0000e+00\n",
      "Epoch 13/100\n",
      "2374/2374 [==============================] - 0s 105us/step - loss: -0.9069 - accuracy: 0.0000e+00 - val_loss: -0.4958 - val_accuracy: 0.0000e+00\n",
      "Epoch 14/100\n",
      "2374/2374 [==============================] - 0s 132us/step - loss: -2.4351 - accuracy: 0.0000e+00 - val_loss: -1.7028 - val_accuracy: 0.0000e+00\n",
      "Epoch 15/100\n",
      "2374/2374 [==============================] - 0s 108us/step - loss: -7.4150 - accuracy: 0.0000e+00 - val_loss: -5.2269 - val_accuracy: 0.0000e+00\n",
      "Epoch 16/100\n",
      "2374/2374 [==============================] - 0s 91us/step - loss: -63.7712 - accuracy: 0.0000e+00 - val_loss: -78.0656 - val_accuracy: 0.0000e+00\n",
      "Epoch 17/100\n",
      "2374/2374 [==============================] - 0s 104us/step - loss: -295.5957 - accuracy: 0.0000e+00 - val_loss: -2105.1228 - val_accuracy: 0.0000e+00\n",
      "Epoch 18/100\n",
      "2374/2374 [==============================] - 0s 113us/step - loss: 37.8669 - accuracy: 0.0000e+00 - val_loss: 54.4941 - val_accuracy: 0.0000e+00\n",
      "Epoch 19/100\n",
      "2374/2374 [==============================] - 0s 98us/step - loss: 0.4358 - accuracy: 0.0000e+00 - val_loss: 47.1515 - val_accuracy: 0.0000e+00\n",
      "Epoch 20/100\n",
      "2374/2374 [==============================] - 0s 115us/step - loss: -0.6612 - accuracy: 0.0000e+00 - val_loss: 51.3706 - val_accuracy: 0.0000e+00\n",
      "Epoch 21/100\n",
      "2374/2374 [==============================] - 0s 179us/step - loss: 7045.1354 - accuracy: 0.0000e+00 - val_loss: 0.2985 - val_accuracy: 0.0000e+00\n",
      "Epoch 22/100\n",
      "2374/2374 [==============================] - 0s 144us/step - loss: 0.2369 - accuracy: 0.0000e+00 - val_loss: 0.2937 - val_accuracy: 0.0000e+00\n",
      "Epoch 23/100\n",
      "2374/2374 [==============================] - 0s 98us/step - loss: 0.2296 - accuracy: 0.0000e+00 - val_loss: 0.2916 - val_accuracy: 0.0000e+00\n",
      "Epoch 24/100\n",
      "2374/2374 [==============================] - 0s 102us/step - loss: 0.2253 - accuracy: 0.0000e+00 - val_loss: 0.2909 - val_accuracy: 0.0000e+00\n",
      "Epoch 25/100\n",
      "2374/2374 [==============================] - 0s 109us/step - loss: 0.2226 - accuracy: 0.0000e+00 - val_loss: 0.2907 - val_accuracy: 0.0000e+00\n",
      "Epoch 26/100\n",
      "2374/2374 [==============================] - 0s 120us/step - loss: 0.2202 - accuracy: 0.0000e+00 - val_loss: 0.2910 - val_accuracy: 0.0000e+00\n",
      "Epoch 27/100\n",
      "2374/2374 [==============================] - 0s 123us/step - loss: 0.2186 - accuracy: 0.0000e+00 - val_loss: 0.2915 - val_accuracy: 0.0000e+00\n",
      "Epoch 28/100\n",
      "2374/2374 [==============================] - 0s 144us/step - loss: 0.2180 - accuracy: 0.0000e+00 - val_loss: 0.2920 - val_accuracy: 0.0000e+00\n",
      "Epoch 29/100\n",
      "2374/2374 [==============================] - 0s 142us/step - loss: 0.2173 - accuracy: 0.0000e+00 - val_loss: 0.2926 - val_accuracy: 0.0000e+00\n",
      "Epoch 30/100\n",
      "2374/2374 [==============================] - 0s 127us/step - loss: 0.2168 - accuracy: 0.0000e+00 - val_loss: 0.2930 - val_accuracy: 0.0000e+00\n",
      "Epoch 31/100\n",
      "2374/2374 [==============================] - 0s 107us/step - loss: 0.2166 - accuracy: 0.0000e+00 - val_loss: 0.2936 - val_accuracy: 0.0000e+00\n",
      "Epoch 32/100\n",
      "2374/2374 [==============================] - 0s 143us/step - loss: 0.2163 - accuracy: 0.0000e+00 - val_loss: 0.2940 - val_accuracy: 0.0000e+00\n",
      "Epoch 33/100\n",
      "2374/2374 [==============================] - 0s 92us/step - loss: 0.2162 - accuracy: 0.0000e+00 - val_loss: 0.2946 - val_accuracy: 0.0000e+00\n",
      "Epoch 34/100\n",
      "2374/2374 [==============================] - 0s 96us/step - loss: 0.2159 - accuracy: 0.0000e+00 - val_loss: 0.2951 - val_accuracy: 0.0000e+00\n",
      "Epoch 35/100\n",
      "2374/2374 [==============================] - 0s 120us/step - loss: 0.2159 - accuracy: 0.0000e+00 - val_loss: 0.2957 - val_accuracy: 0.0000e+00\n",
      "Epoch 36/100\n",
      "2374/2374 [==============================] - 0s 90us/step - loss: 0.2160 - accuracy: 0.0000e+00 - val_loss: 0.2958 - val_accuracy: 0.0000e+00\n",
      "Epoch 37/100\n",
      "2374/2374 [==============================] - 0s 93us/step - loss: 0.2157 - accuracy: 0.0000e+00 - val_loss: 0.2962 - val_accuracy: 0.0000e+00\n",
      "Epoch 38/100\n",
      "2374/2374 [==============================] - 0s 103us/step - loss: 0.2157 - accuracy: 0.0000e+00 - val_loss: 0.2965 - val_accuracy: 0.0000e+00\n",
      "Epoch 39/100\n",
      "2374/2374 [==============================] - 0s 130us/step - loss: 0.2156 - accuracy: 0.0000e+00 - val_loss: 0.2964 - val_accuracy: 0.0000e+00\n",
      "Epoch 40/100\n",
      "2374/2374 [==============================] - 0s 113us/step - loss: 0.2156 - accuracy: 0.0000e+00 - val_loss: 0.2965 - val_accuracy: 0.0000e+00\n",
      "Epoch 41/100\n",
      "2374/2374 [==============================] - 0s 103us/step - loss: 0.2157 - accuracy: 0.0000e+00 - val_loss: 0.2967 - val_accuracy: 0.0000e+00\n",
      "Epoch 42/100\n",
      "2374/2374 [==============================] - 0s 100us/step - loss: 0.2157 - accuracy: 0.0000e+00 - val_loss: 0.2969 - val_accuracy: 0.0000e+00\n",
      "Epoch 43/100\n",
      "2374/2374 [==============================] - 0s 133us/step - loss: 0.2156 - accuracy: 0.0000e+00 - val_loss: 0.2971 - val_accuracy: 0.0000e+00\n",
      "Epoch 44/100\n",
      "2374/2374 [==============================] - ETA: 0s - loss: 0.2248 - accuracy: 0.0000e+ - 0s 98us/step - loss: 0.2157 - accuracy: 0.0000e+00 - val_loss: 0.2973 - val_accuracy: 0.0000e+00\n",
      "Epoch 45/100\n",
      "2374/2374 [==============================] - 0s 113us/step - loss: 0.2156 - accuracy: 0.0000e+00 - val_loss: 0.2973 - val_accuracy: 0.0000e+00\n",
      "Epoch 46/100\n",
      "2374/2374 [==============================] - 0s 103us/step - loss: 0.2155 - accuracy: 0.0000e+00 - val_loss: 0.2974 - val_accuracy: 0.0000e+00\n",
      "Epoch 47/100\n",
      "2374/2374 [==============================] - 0s 134us/step - loss: 0.2156 - accuracy: 0.0000e+00 - val_loss: 0.2975 - val_accuracy: 0.0000e+00\n",
      "Epoch 48/100\n",
      "2374/2374 [==============================] - 0s 92us/step - loss: 0.2157 - accuracy: 0.0000e+00 - val_loss: 0.2975 - val_accuracy: 0.0000e+00\n",
      "Epoch 49/100\n",
      "2374/2374 [==============================] - 0s 110us/step - loss: 0.2156 - accuracy: 0.0000e+00 - val_loss: 0.2974 - val_accuracy: 0.0000e+00\n",
      "Epoch 50/100\n",
      "2374/2374 [==============================] - 0s 104us/step - loss: 0.2157 - accuracy: 0.0000e+00 - val_loss: 0.2976 - val_accuracy: 0.0000e+00\n",
      "Epoch 51/100\n",
      "2374/2374 [==============================] - 0s 129us/step - loss: 0.2156 - accuracy: 0.0000e+00 - val_loss: 0.2977 - val_accuracy: 0.0000e+00\n",
      "Epoch 52/100\n",
      "2374/2374 [==============================] - 0s 98us/step - loss: 0.2158 - accuracy: 0.0000e+00 - val_loss: 0.2977 - val_accuracy: 0.0000e+00\n"
     ]
    },
    {
     "name": "stdout",
     "output_type": "stream",
     "text": [
      "Epoch 53/100\n",
      "2374/2374 [==============================] - 0s 100us/step - loss: 0.2157 - accuracy: 0.0000e+00 - val_loss: 0.2978 - val_accuracy: 0.0000e+00\n",
      "Epoch 54/100\n",
      "2374/2374 [==============================] - 0s 101us/step - loss: 0.2155 - accuracy: 0.0000e+00 - val_loss: 0.2979 - val_accuracy: 0.0000e+00\n",
      "Epoch 55/100\n",
      "2374/2374 [==============================] - 0s 101us/step - loss: 0.2156 - accuracy: 0.0000e+00 - val_loss: 0.2979 - val_accuracy: 0.0000e+00\n",
      "Epoch 56/100\n",
      "2374/2374 [==============================] - 0s 126us/step - loss: 0.2156 - accuracy: 0.0000e+00 - val_loss: 0.2983 - val_accuracy: 0.0000e+00\n",
      "Epoch 57/100\n",
      "2374/2374 [==============================] - 0s 100us/step - loss: 0.2155 - accuracy: 0.0000e+00 - val_loss: 0.2983 - val_accuracy: 0.0000e+00\n",
      "Epoch 58/100\n",
      "2374/2374 [==============================] - 0s 106us/step - loss: 0.2157 - accuracy: 0.0000e+00 - val_loss: 0.2982 - val_accuracy: 0.0000e+00\n",
      "Epoch 59/100\n",
      "2374/2374 [==============================] - 0s 112us/step - loss: 0.2157 - accuracy: 0.0000e+00 - val_loss: 0.2984 - val_accuracy: 0.0000e+00\n",
      "Epoch 60/100\n",
      "2374/2374 [==============================] - 0s 126us/step - loss: 0.2157 - accuracy: 0.0000e+00 - val_loss: 0.2980 - val_accuracy: 0.0000e+00\n",
      "Epoch 61/100\n",
      "2374/2374 [==============================] - 0s 99us/step - loss: 0.2156 - accuracy: 0.0000e+00 - val_loss: 0.2980 - val_accuracy: 0.0000e+00\n",
      "Epoch 62/100\n",
      "2374/2374 [==============================] - 0s 118us/step - loss: 0.2156 - accuracy: 0.0000e+00 - val_loss: 0.2980 - val_accuracy: 0.0000e+00\n",
      "Epoch 63/100\n",
      "2374/2374 [==============================] - 0s 109us/step - loss: 0.2155 - accuracy: 0.0000e+00 - val_loss: 0.2980 - val_accuracy: 0.0000e+00\n",
      "Epoch 64/100\n",
      "2374/2374 [==============================] - 0s 101us/step - loss: 0.2155 - accuracy: 0.0000e+00 - val_loss: 0.2980 - val_accuracy: 0.0000e+00\n",
      "Epoch 65/100\n",
      "2374/2374 [==============================] - 0s 118us/step - loss: 0.2156 - accuracy: 0.0000e+00 - val_loss: 0.2977 - val_accuracy: 0.0000e+00\n",
      "Epoch 66/100\n",
      "2374/2374 [==============================] - 0s 125us/step - loss: 0.2155 - accuracy: 0.0000e+00 - val_loss: 0.2980 - val_accuracy: 0.0000e+00\n",
      "Epoch 67/100\n",
      "2374/2374 [==============================] - 0s 88us/step - loss: 0.2156 - accuracy: 0.0000e+00 - val_loss: 0.2979 - val_accuracy: 0.0000e+00\n",
      "Epoch 68/100\n",
      "2374/2374 [==============================] - 0s 94us/step - loss: 0.2156 - accuracy: 0.0000e+00 - val_loss: 0.2977 - val_accuracy: 0.0000e+00\n",
      "Epoch 69/100\n",
      "2374/2374 [==============================] - 0s 98us/step - loss: 0.2156 - accuracy: 0.0000e+00 - val_loss: 0.2977 - val_accuracy: 0.0000e+00\n",
      "Epoch 70/100\n",
      "2374/2374 [==============================] - 0s 101us/step - loss: 0.2156 - accuracy: 0.0000e+00 - val_loss: 0.2977 - val_accuracy: 0.0000e+00\n",
      "Epoch 71/100\n",
      "2374/2374 [==============================] - 0s 99us/step - loss: 0.2156 - accuracy: 0.0000e+00 - val_loss: 0.2976 - val_accuracy: 0.0000e+00\n",
      "Epoch 72/100\n",
      "2374/2374 [==============================] - 0s 111us/step - loss: 0.2158 - accuracy: 0.0000e+00 - val_loss: 0.2975 - val_accuracy: 0.0000e+00\n",
      "Epoch 73/100\n",
      "2374/2374 [==============================] - 0s 104us/step - loss: 0.2156 - accuracy: 0.0000e+00 - val_loss: 0.2979 - val_accuracy: 0.0000e+00\n",
      "Epoch 74/100\n",
      "2374/2374 [==============================] - 0s 105us/step - loss: 0.2155 - accuracy: 0.0000e+00 - val_loss: 0.2983 - val_accuracy: 0.0000e+00\n",
      "Epoch 75/100\n",
      "2374/2374 [==============================] - 0s 97us/step - loss: 0.2155 - accuracy: 0.0000e+00 - val_loss: 0.2982 - val_accuracy: 0.0000e+00\n",
      "Epoch 76/100\n",
      "2374/2374 [==============================] - ETA: 0s - loss: 0.2248 - accuracy: 0.0000e+ - 0s 100us/step - loss: 0.2155 - accuracy: 0.0000e+00 - val_loss: 0.2983 - val_accuracy: 0.0000e+00\n",
      "Epoch 77/100\n",
      "2374/2374 [==============================] - 0s 98us/step - loss: 0.2157 - accuracy: 0.0000e+00 - val_loss: 0.2981 - val_accuracy: 0.0000e+00\n",
      "Epoch 78/100\n",
      "2374/2374 [==============================] - 0s 98us/step - loss: 0.2156 - accuracy: 0.0000e+00 - val_loss: 0.2981 - val_accuracy: 0.0000e+00\n",
      "Epoch 79/100\n",
      "2374/2374 [==============================] - 0s 96us/step - loss: 0.2157 - accuracy: 0.0000e+00 - val_loss: 0.2982 - val_accuracy: 0.0000e+00\n",
      "Epoch 80/100\n",
      "2374/2374 [==============================] - 0s 95us/step - loss: 0.2156 - accuracy: 0.0000e+00 - val_loss: 0.2981 - val_accuracy: 0.0000e+00\n",
      "Epoch 81/100\n",
      "2374/2374 [==============================] - 0s 99us/step - loss: 0.2155 - accuracy: 0.0000e+00 - val_loss: 0.2980 - val_accuracy: 0.0000e+00\n",
      "Epoch 82/100\n",
      "2374/2374 [==============================] - 0s 104us/step - loss: 0.2156 - accuracy: 0.0000e+00 - val_loss: 0.2982 - val_accuracy: 0.0000e+00\n",
      "Epoch 83/100\n",
      "2374/2374 [==============================] - 0s 104us/step - loss: 0.2156 - accuracy: 0.0000e+00 - val_loss: 0.2983 - val_accuracy: 0.0000e+00\n",
      "Epoch 84/100\n",
      "2374/2374 [==============================] - 0s 99us/step - loss: 0.2155 - accuracy: 0.0000e+00 - val_loss: 0.2983 - val_accuracy: 0.0000e+00\n",
      "Epoch 85/100\n",
      "2374/2374 [==============================] - 0s 100us/step - loss: 0.2156 - accuracy: 0.0000e+00 - val_loss: 0.2984 - val_accuracy: 0.0000e+00\n",
      "Epoch 86/100\n",
      "2374/2374 [==============================] - 0s 104us/step - loss: 0.2155 - accuracy: 0.0000e+00 - val_loss: 0.2986 - val_accuracy: 0.0000e+00\n",
      "Epoch 87/100\n",
      "2374/2374 [==============================] - 0s 113us/step - loss: 0.2156 - accuracy: 0.0000e+00 - val_loss: 0.2984 - val_accuracy: 0.0000e+00\n",
      "Epoch 88/100\n",
      "2374/2374 [==============================] - 0s 109us/step - loss: 0.2157 - accuracy: 0.0000e+00 - val_loss: 0.2984 - val_accuracy: 0.0000e+00\n",
      "Epoch 89/100\n",
      "2374/2374 [==============================] - 0s 111us/step - loss: 0.2156 - accuracy: 0.0000e+00 - val_loss: 0.2983 - val_accuracy: 0.0000e+00\n",
      "Epoch 90/100\n",
      "2374/2374 [==============================] - 0s 105us/step - loss: 0.2156 - accuracy: 0.0000e+00 - val_loss: 0.2984 - val_accuracy: 0.0000e+00\n",
      "Epoch 91/100\n",
      "2374/2374 [==============================] - 0s 100us/step - loss: 0.2156 - accuracy: 0.0000e+00 - val_loss: 0.2983 - val_accuracy: 0.0000e+00\n",
      "Epoch 92/100\n",
      "2374/2374 [==============================] - 0s 100us/step - loss: 0.2156 - accuracy: 0.0000e+00 - val_loss: 0.2984 - val_accuracy: 0.0000e+00\n",
      "Epoch 93/100\n",
      "2374/2374 [==============================] - 0s 98us/step - loss: 0.2157 - accuracy: 0.0000e+00 - val_loss: 0.2984 - val_accuracy: 0.0000e+00\n",
      "Epoch 94/100\n",
      "2374/2374 [==============================] - 0s 104us/step - loss: 0.2156 - accuracy: 0.0000e+00 - val_loss: 0.2984 - val_accuracy: 0.0000e+00\n",
      "Epoch 95/100\n",
      "2374/2374 [==============================] - 0s 122us/step - loss: 0.2156 - accuracy: 0.0000e+00 - val_loss: 0.2983 - val_accuracy: 0.0000e+00\n",
      "Epoch 96/100\n",
      "2374/2374 [==============================] - 0s 122us/step - loss: 0.2156 - accuracy: 0.0000e+00 - val_loss: 0.2981 - val_accuracy: 0.0000e+00\n",
      "Epoch 97/100\n",
      "2374/2374 [==============================] - 0s 117us/step - loss: 0.2155 - accuracy: 0.0000e+00 - val_loss: 0.2981 - val_accuracy: 0.0000e+00\n",
      "Epoch 98/100\n",
      "2374/2374 [==============================] - 0s 141us/step - loss: 0.2156 - accuracy: 0.0000e+00 - val_loss: 0.2981 - val_accuracy: 0.0000e+00\n",
      "Epoch 99/100\n",
      "2374/2374 [==============================] - 0s 129us/step - loss: 0.2155 - accuracy: 0.0000e+00 - val_loss: 0.2983 - val_accuracy: 0.0000e+00\n",
      "Epoch 100/100\n",
      "2374/2374 [==============================] - 0s 142us/step - loss: 0.2157 - accuracy: 0.0000e+00 - val_loss: 0.2981 - val_accuracy: 0.0000e+00\n"
     ]
    }
   ],
   "source": [
    "hist = model.fit(X_train, Y_train, \n",
    "                batch_size=10, epochs=100,\n",
    "                    validation_data=(X_val, Y_val))\n"
   ]
  },
  {
   "cell_type": "code",
   "execution_count": 18,
   "metadata": {},
   "outputs": [
    {
     "name": "stdout",
     "output_type": "stream",
     "text": [
      "509/509 [==============================] - 0s 587us/step\n"
     ]
    },
    {
     "data": {
      "text/plain": [
       "0.0"
      ]
     },
     "execution_count": 18,
     "metadata": {},
     "output_type": "execute_result"
    }
   ],
   "source": [
    "model.evaluate(X_test, Y_test)[1]"
   ]
  },
  {
   "cell_type": "code",
   "execution_count": 19,
   "metadata": {},
   "outputs": [],
   "source": [
    "\n",
    "import matplotlib.pyplot as plt"
   ]
  },
  {
   "cell_type": "code",
   "execution_count": 20,
   "metadata": {},
   "outputs": [
    {
     "data": {
      "image/png": "[encoded data removed]",
      "text/plain": [
       "<Figure size 432x288 with 1 Axes>"
      ]
     },
     "metadata": {
      "needs_background": "light"
     },
     "output_type": "display_data"
    }
   ],
   "source": [
    "plt.plot(hist.history['loss'])\n",
    "plt.plot(hist.history['val_loss'])\n",
    "plt.title('Model loss')\n",
    "plt.ylabel('Loss')\n",
    "plt.xlabel('Epoch')\n",
    "plt.legend(['Train', 'Val'], loc='upper right')\n",
    "plt.show()\n",
    "\n"
   ]
  },
  {
   "cell_type": "code",
   "execution_count": null,
   "metadata": {},
   "outputs": [],
   "source": []
  },
  {
   "cell_type": "code",
   "execution_count": null,
   "metadata": {},
   "outputs": [],
   "source": []
  },
  {
   "cell_type": "code",
   "execution_count": null,
   "metadata": {},
   "outputs": [],
   "source": []
  },
  {
   "cell_type": "code",
   "execution_count": null,
   "metadata": {},
   "outputs": [],
   "source": []
  }
 ],
 "metadata": {
  "kernelspec": {
   "display_name": "Python 3",
   "language": "python",
   "name": "python3"
  },
  "language_info": {
   "codemirror_mode": {
    "name": "ipython",
    "version": 3
   },
   "file_extension": ".py",
   "mimetype": "text/x-python",
   "name": "python",
   "nbconvert_exporter": "python",
   "pygments_lexer": "ipython3",
   "version": "3.6.9"
  }
 },
 "nbformat": 4,
 "nbformat_minor": 2
}
