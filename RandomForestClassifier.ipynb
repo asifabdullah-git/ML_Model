{
 "cells": [
  {
   "cell_type": "code",
   "execution_count": 1,
   "metadata": {},
   "outputs": [],
   "source": [
    "import numpy as np\n",
    "import pandas as pd\n",
    "from pandas import DataFrame, Series\n",
    "from sklearn.model_selection import train_test_split\n",
    "from IPython.display import Image \n",
    "import io\n",
    "#import pydotplus\n",
    "from sklearn import preprocessing\n",
    "from sklearn.ensemble import RandomForestClassifier\n",
    "\n",
    "\n",
    "%matplotlib inline"
   ]
  },
  {
   "cell_type": "code",
   "execution_count": 2,
   "metadata": {},
   "outputs": [],
   "source": [
    "data = pd.read_csv(\"final_filter.csv\")"
   ]
  },
  {
   "cell_type": "code",
   "execution_count": 3,
   "metadata": {},
   "outputs": [
    {
     "data": {
      "text/html": [
       "<div>\n",
       "<style scoped>\n",
       "    .dataframe tbody tr th:only-of-type {\n",
       "        vertical-align: middle;\n",
       "    }\n",
       "\n",
       "    .dataframe tbody tr th {\n",
       "        vertical-align: top;\n",
       "    }\n",
       "\n",
       "    .dataframe thead th {\n",
       "        text-align: right;\n",
       "    }\n",
       "</style>\n",
       "<table border=\"1\" class=\"dataframe\">\n",
       "  <thead>\n",
       "    <tr style=\"text-align: right;\">\n",
       "      <th></th>\n",
       "      <th>location</th>\n",
       "      <th>mean_X</th>\n",
       "      <th>mean_Y</th>\n",
       "      <th>mean_Z</th>\n",
       "      <th>std_X</th>\n",
       "      <th>std_Y</th>\n",
       "      <th>std_Z</th>\n",
       "      <th>skew_X</th>\n",
       "      <th>skew_Y</th>\n",
       "      <th>skew_Z</th>\n",
       "      <th>label</th>\n",
       "    </tr>\n",
       "  </thead>\n",
       "  <tbody>\n",
       "    <tr>\n",
       "      <th>0</th>\n",
       "      <td>1</td>\n",
       "      <td>-0.023929</td>\n",
       "      <td>0.112579</td>\n",
       "      <td>-0.990092</td>\n",
       "      <td>0.157646</td>\n",
       "      <td>0.188360</td>\n",
       "      <td>0.101932</td>\n",
       "      <td>-0.443176</td>\n",
       "      <td>2.052829</td>\n",
       "      <td>0.103822</td>\n",
       "      <td>11</td>\n",
       "    </tr>\n",
       "    <tr>\n",
       "      <th>1</th>\n",
       "      <td>1</td>\n",
       "      <td>-0.037360</td>\n",
       "      <td>-0.007463</td>\n",
       "      <td>-0.996015</td>\n",
       "      <td>0.090459</td>\n",
       "      <td>0.118507</td>\n",
       "      <td>0.076649</td>\n",
       "      <td>0.666670</td>\n",
       "      <td>-0.122277</td>\n",
       "      <td>0.050711</td>\n",
       "      <td>11</td>\n",
       "    </tr>\n",
       "    <tr>\n",
       "      <th>2</th>\n",
       "      <td>1</td>\n",
       "      <td>-0.089317</td>\n",
       "      <td>-0.017025</td>\n",
       "      <td>-0.990883</td>\n",
       "      <td>0.091634</td>\n",
       "      <td>0.100888</td>\n",
       "      <td>0.082321</td>\n",
       "      <td>-0.565520</td>\n",
       "      <td>-0.045078</td>\n",
       "      <td>1.029924</td>\n",
       "      <td>11</td>\n",
       "    </tr>\n",
       "    <tr>\n",
       "      <th>3</th>\n",
       "      <td>1</td>\n",
       "      <td>-0.101585</td>\n",
       "      <td>-0.027065</td>\n",
       "      <td>-0.996976</td>\n",
       "      <td>0.092982</td>\n",
       "      <td>0.100444</td>\n",
       "      <td>0.078133</td>\n",
       "      <td>-0.378990</td>\n",
       "      <td>-0.160353</td>\n",
       "      <td>-0.628184</td>\n",
       "      <td>11</td>\n",
       "    </tr>\n",
       "    <tr>\n",
       "      <th>4</th>\n",
       "      <td>1</td>\n",
       "      <td>-0.099574</td>\n",
       "      <td>-0.008085</td>\n",
       "      <td>-1.003562</td>\n",
       "      <td>0.076271</td>\n",
       "      <td>0.119020</td>\n",
       "      <td>0.059293</td>\n",
       "      <td>-0.111909</td>\n",
       "      <td>-0.189929</td>\n",
       "      <td>-0.381072</td>\n",
       "      <td>11</td>\n",
       "    </tr>\n",
       "  </tbody>\n",
       "</table>\n",
       "</div>"
      ],
      "text/plain": [
       "   location    mean_X    mean_Y    mean_Z     std_X     std_Y     std_Z  \\\n",
       "0         1 -0.023929  0.112579 -0.990092  0.157646  0.188360  0.101932   \n",
       "1         1 -0.037360 -0.007463 -0.996015  0.090459  0.118507  0.076649   \n",
       "2         1 -0.089317 -0.017025 -0.990883  0.091634  0.100888  0.082321   \n",
       "3         1 -0.101585 -0.027065 -0.996976  0.092982  0.100444  0.078133   \n",
       "4         1 -0.099574 -0.008085 -1.003562  0.076271  0.119020  0.059293   \n",
       "\n",
       "     skew_X    skew_Y    skew_Z  label  \n",
       "0 -0.443176  2.052829  0.103822     11  \n",
       "1  0.666670 -0.122277  0.050711     11  \n",
       "2 -0.565520 -0.045078  1.029924     11  \n",
       "3 -0.378990 -0.160353 -0.628184     11  \n",
       "4 -0.111909 -0.189929 -0.381072     11  "
      ]
     },
     "execution_count": 3,
     "metadata": {},
     "output_type": "execute_result"
    }
   ],
   "source": [
    "data.head()"
   ]
  },
  {
   "cell_type": "code",
   "execution_count": 4,
   "metadata": {},
   "outputs": [
    {
     "data": {
      "text/plain": [
       "Index(['location', 'mean_X', 'mean_Y', 'mean_Z', 'std_X', 'std_Y', 'std_Z',\n",
       "       'skew_X', 'skew_Y', 'skew_Z', 'label'],\n",
       "      dtype='object')"
      ]
     },
     "execution_count": 4,
     "metadata": {},
     "output_type": "execute_result"
    }
   ],
   "source": [
    "features = data.columns\n",
    "features"
   ]
  },
  {
   "cell_type": "code",
   "execution_count": 5,
   "metadata": {},
   "outputs": [
    {
     "data": {
      "text/plain": [
       "['location',\n",
       " 'mean_X',\n",
       " 'mean_Y',\n",
       " 'mean_Z',\n",
       " 'std_X',\n",
       " 'std_Y',\n",
       " 'std_Z',\n",
       " 'skew_X',\n",
       " 'skew_Y',\n",
       " 'skew_Z']"
      ]
     },
     "execution_count": 5,
     "metadata": {},
     "output_type": "execute_result"
    }
   ],
   "source": [
    "features = [x for x in features if x != 'label']\n",
    "features"
   ]
  },
  {
   "cell_type": "code",
   "execution_count": 6,
   "metadata": {},
   "outputs": [
    {
     "name": "stdout",
     "output_type": "stream",
     "text": [
      "3392\n",
      "3154\n",
      "238\n"
     ]
    }
   ],
   "source": [
    "train, test = train_test_split(data, test_size = 0.07)\n",
    "print(len(data))\n",
    "print(len(train))\n",
    "print(len(test))"
   ]
  },
  {
   "cell_type": "code",
   "execution_count": 7,
   "metadata": {},
   "outputs": [],
   "source": [
    "RF = RandomForestClassifier(n_estimators=100, max_depth=5,\n",
    "                             random_state=0)\n"
   ]
  },
  {
   "cell_type": "code",
   "execution_count": 8,
   "metadata": {},
   "outputs": [],
   "source": [
    "x_train = train[features]\n",
    "y_train = train[\"label\"]\n",
    "\n",
    "x_test = test[features]\n",
    "y_test = test[\"label\"]"
   ]
  },
  {
   "cell_type": "code",
   "execution_count": 9,
   "metadata": {},
   "outputs": [],
   "source": [
    "RF = RF.fit(x_train, y_train)"
   ]
  },
  {
   "cell_type": "code",
   "execution_count": 10,
   "metadata": {},
   "outputs": [],
   "source": [
    "y_pred = RF.predict(x_test)"
   ]
  },
  {
   "cell_type": "code",
   "execution_count": 11,
   "metadata": {},
   "outputs": [
    {
     "data": {
      "text/plain": [
       "array([12, 23, 12, 12, 12, 15, 21, 13, 21, 14, 15, 13, 12, 21, 14, 21, 11,\n",
       "       14, 33, 11, 23, 15, 31, 14, 23, 31, 21, 11, 15, 21, 31, 22, 12, 21,\n",
       "       14, 15, 13, 12, 11, 13, 12, 12, 11, 11, 33, 33, 14, 12, 11, 13, 21,\n",
       "       15, 21, 33, 11, 22, 31, 21, 11, 11, 23, 11, 11, 33, 12, 21, 32, 13,\n",
       "       11, 15, 31, 12, 31, 11, 31, 14, 33, 21, 11, 23, 14, 31, 14, 14, 11,\n",
       "       32, 11, 21, 15, 15, 31, 13, 33, 12, 13, 11, 13, 21, 12, 21, 11, 11,\n",
       "       14, 12, 15, 12, 14, 21, 12, 21, 11, 12, 14, 21, 12, 14, 31, 15, 11,\n",
       "       22, 33, 32, 21, 11, 13, 11, 15, 11, 14, 13, 12, 33, 11, 15, 32, 21,\n",
       "       33, 15, 31, 31, 22, 11, 11, 33, 21, 12, 13, 12, 23, 22, 14, 11, 33,\n",
       "       14, 11, 14, 12, 11, 11, 11, 11, 12, 13, 11, 11, 14, 12, 14, 15, 13,\n",
       "       15, 33, 31, 31, 15, 21, 32, 21, 14, 14, 15, 11, 13, 14, 33, 15, 11,\n",
       "       11, 21, 11, 14, 33, 14, 11, 11, 12, 33, 31, 14, 33, 21, 21, 33, 33,\n",
       "       12, 23, 31, 14, 21, 21, 33, 31, 31, 11, 21, 11, 22, 21, 22, 33, 15,\n",
       "       13, 11, 14, 21, 15, 11, 21, 23, 11, 15, 21, 33, 22, 21, 31, 33, 21],\n",
       "      dtype=int64)"
      ]
     },
     "execution_count": 11,
     "metadata": {},
     "output_type": "execute_result"
    }
   ],
   "source": [
    "y_pred"
   ]
  },
  {
   "cell_type": "code",
   "execution_count": 12,
   "metadata": {},
   "outputs": [
    {
     "name": "stdout",
     "output_type": "stream",
     "text": [
      "Accuracy using Random Forest Classifier:  90.3 %\n"
     ]
    }
   ],
   "source": [
    "from sklearn.metrics import accuracy_score\n",
    "score = accuracy_score(y_test, y_pred) * 100\n",
    "print(\"Accuracy using Random Forest Classifier: \", round(score, 1), \"%\" )"
   ]
  },
  {
   "cell_type": "code",
   "execution_count": 13,
   "metadata": {},
   "outputs": [
    {
     "name": "stdout",
     "output_type": "stream",
     "text": [
      "F1 score:  0.903361344537815\n",
      "Precision:  0.9151398157684425\n",
      "recall:  0.9127985014307403\n",
      "\n",
      "confusion matrix: \n",
      " [[34  1  0  1  2  0  0  0  0  0  0]\n",
      " [ 0 25  0  0  0  0  0  0  0  0  0]\n",
      " [ 0  1 16  0  1  0  0  0  0  0  0]\n",
      " [ 3  0  0 26  0  0  0  0  0  0  0]\n",
      " [10  0  0  1 19  0  0  0  0  0  0]\n",
      " [ 0  0  0  0  0 35  0  0  0  0  0]\n",
      " [ 0  0  0  0  0  0  5  0  0  0  0]\n",
      " [ 0  0  0  0  0  0  3  8  0  0  0]\n",
      " [ 0  0  0  0  0  0  0  0 19  0  0]\n",
      " [ 0  0  0  0  0  0  0  0  0  5  0]\n",
      " [ 0  0  0  0  0  0  0  0  0  0 23]]\n"
     ]
    }
   ],
   "source": [
    "from sklearn.metrics import confusion_matrix, accuracy_score,f1_score,precision_score,recall_score\n",
    "from sklearn.metrics import classification_report\n",
    "from sklearn.metrics import precision_recall_curve\n",
    "\n",
    "c = confusion_matrix(y_test,y_pred)\n",
    "f1 = f1_score(y_test,y_pred,average=\"micro\")\n",
    "p = precision_score(y_test, y_pred, average=\"macro\")\n",
    "r = recall_score(y_test,y_pred,average=\"macro\")\n",
    "\n",
    "print(\"F1 score: \", f1)\n",
    "print(\"Precision: \" , p)\n",
    "print(\"recall: \" , r)\n",
    "print(\"\\nconfusion matrix: \\n\" , c)"
   ]
  }
 ],
 "metadata": {
  "kernelspec": {
   "display_name": "Python 3",
   "language": "python",
   "name": "python3"
  },
  "language_info": {
   "codemirror_mode": {
    "name": "ipython",
    "version": 3
   },
   "file_extension": ".py",
   "mimetype": "text/x-python",
   "name": "python",
   "nbconvert_exporter": "python",
   "pygments_lexer": "ipython3",
   "version": "3.7.4"
  }
 },
 "nbformat": 4,
 "nbformat_minor": 2
}
