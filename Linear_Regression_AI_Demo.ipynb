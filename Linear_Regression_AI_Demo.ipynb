{
 "cells": [
  {
   "cell_type": "code",
   "execution_count": 1,
   "metadata": {},
   "outputs": [],
   "source": [
    "import pandas as pd  \n",
    "import numpy as np  \n",
    "import matplotlib.pyplot as plt  \n",
    "#import seaborn as seabornInstance \n",
    "from sklearn.model_selection import train_test_split \n",
    "from sklearn.linear_model import LinearRegression\n",
    "from sklearn import metrics\n",
    "%matplotlib inline"
   ]
  },
  {
   "cell_type": "code",
   "execution_count": 2,
   "metadata": {},
   "outputs": [
    {
     "data": {
      "text/html": [
       "<div>\n",
       "<style scoped>\n",
       "    .dataframe tbody tr th:only-of-type {\n",
       "        vertical-align: middle;\n",
       "    }\n",
       "\n",
       "    .dataframe tbody tr th {\n",
       "        vertical-align: top;\n",
       "    }\n",
       "\n",
       "    .dataframe thead th {\n",
       "        text-align: right;\n",
       "    }\n",
       "</style>\n",
       "<table border=\"1\" class=\"dataframe\">\n",
       "  <thead>\n",
       "    <tr style=\"text-align: right;\">\n",
       "      <th></th>\n",
       "      <th>location</th>\n",
       "      <th>mean_X</th>\n",
       "      <th>mean_Y</th>\n",
       "      <th>mean_Z</th>\n",
       "      <th>std_X</th>\n",
       "      <th>std_Y</th>\n",
       "      <th>std_Z</th>\n",
       "      <th>skew_X</th>\n",
       "      <th>skew_Y</th>\n",
       "      <th>skew_Z</th>\n",
       "      <th>label</th>\n",
       "    </tr>\n",
       "  </thead>\n",
       "  <tbody>\n",
       "    <tr>\n",
       "      <td>0</td>\n",
       "      <td>1</td>\n",
       "      <td>-0.023929</td>\n",
       "      <td>0.112579</td>\n",
       "      <td>-0.990092</td>\n",
       "      <td>0.157646</td>\n",
       "      <td>0.188360</td>\n",
       "      <td>0.101932</td>\n",
       "      <td>-0.443176</td>\n",
       "      <td>2.052829</td>\n",
       "      <td>0.103822</td>\n",
       "      <td>11</td>\n",
       "    </tr>\n",
       "    <tr>\n",
       "      <td>1</td>\n",
       "      <td>1</td>\n",
       "      <td>-0.037360</td>\n",
       "      <td>-0.007463</td>\n",
       "      <td>-0.996015</td>\n",
       "      <td>0.090459</td>\n",
       "      <td>0.118507</td>\n",
       "      <td>0.076649</td>\n",
       "      <td>0.666670</td>\n",
       "      <td>-0.122277</td>\n",
       "      <td>0.050711</td>\n",
       "      <td>11</td>\n",
       "    </tr>\n",
       "    <tr>\n",
       "      <td>2</td>\n",
       "      <td>1</td>\n",
       "      <td>-0.089317</td>\n",
       "      <td>-0.017025</td>\n",
       "      <td>-0.990883</td>\n",
       "      <td>0.091634</td>\n",
       "      <td>0.100888</td>\n",
       "      <td>0.082321</td>\n",
       "      <td>-0.565520</td>\n",
       "      <td>-0.045078</td>\n",
       "      <td>1.029924</td>\n",
       "      <td>11</td>\n",
       "    </tr>\n",
       "    <tr>\n",
       "      <td>3</td>\n",
       "      <td>1</td>\n",
       "      <td>-0.101585</td>\n",
       "      <td>-0.027065</td>\n",
       "      <td>-0.996976</td>\n",
       "      <td>0.092982</td>\n",
       "      <td>0.100444</td>\n",
       "      <td>0.078133</td>\n",
       "      <td>-0.378990</td>\n",
       "      <td>-0.160353</td>\n",
       "      <td>-0.628184</td>\n",
       "      <td>11</td>\n",
       "    </tr>\n",
       "    <tr>\n",
       "      <td>4</td>\n",
       "      <td>1</td>\n",
       "      <td>-0.099574</td>\n",
       "      <td>-0.008085</td>\n",
       "      <td>-1.003562</td>\n",
       "      <td>0.076271</td>\n",
       "      <td>0.119020</td>\n",
       "      <td>0.059293</td>\n",
       "      <td>-0.111909</td>\n",
       "      <td>-0.189929</td>\n",
       "      <td>-0.381072</td>\n",
       "      <td>11</td>\n",
       "    </tr>\n",
       "  </tbody>\n",
       "</table>\n",
       "</div>"
      ],
      "text/plain": [
       "   location    mean_X    mean_Y    mean_Z     std_X     std_Y     std_Z  \\\n",
       "0         1 -0.023929  0.112579 -0.990092  0.157646  0.188360  0.101932   \n",
       "1         1 -0.037360 -0.007463 -0.996015  0.090459  0.118507  0.076649   \n",
       "2         1 -0.089317 -0.017025 -0.990883  0.091634  0.100888  0.082321   \n",
       "3         1 -0.101585 -0.027065 -0.996976  0.092982  0.100444  0.078133   \n",
       "4         1 -0.099574 -0.008085 -1.003562  0.076271  0.119020  0.059293   \n",
       "\n",
       "     skew_X    skew_Y    skew_Z  label  \n",
       "0 -0.443176  2.052829  0.103822     11  \n",
       "1  0.666670 -0.122277  0.050711     11  \n",
       "2 -0.565520 -0.045078  1.029924     11  \n",
       "3 -0.378990 -0.160353 -0.628184     11  \n",
       "4 -0.111909 -0.189929 -0.381072     11  "
      ]
     },
     "execution_count": 2,
     "metadata": {},
     "output_type": "execute_result"
    }
   ],
   "source": [
    "data = pd.read_csv(\"final_filter.csv\")\n",
    "data.head(5)"
   ]
  },
  {
   "cell_type": "code",
   "execution_count": 3,
   "metadata": {
    "scrolled": true
   },
   "outputs": [
    {
     "data": {
      "text/plain": [
       "(3392, 11)"
      ]
     },
     "execution_count": 3,
     "metadata": {},
     "output_type": "execute_result"
    }
   ],
   "source": [
    "data.shape #It shows (Amount of rows , amount of columns.)"
   ]
  },
  {
   "cell_type": "code",
   "execution_count": 4,
   "metadata": {
    "scrolled": true
   },
   "outputs": [
    {
     "data": {
      "text/html": [
       "<div>\n",
       "<style scoped>\n",
       "    .dataframe tbody tr th:only-of-type {\n",
       "        vertical-align: middle;\n",
       "    }\n",
       "\n",
       "    .dataframe tbody tr th {\n",
       "        vertical-align: top;\n",
       "    }\n",
       "\n",
       "    .dataframe thead th {\n",
       "        text-align: right;\n",
       "    }\n",
       "</style>\n",
       "<table border=\"1\" class=\"dataframe\">\n",
       "  <thead>\n",
       "    <tr style=\"text-align: right;\">\n",
       "      <th></th>\n",
       "      <th>location</th>\n",
       "      <th>mean_X</th>\n",
       "      <th>mean_Y</th>\n",
       "      <th>mean_Z</th>\n",
       "      <th>std_X</th>\n",
       "      <th>std_Y</th>\n",
       "      <th>std_Z</th>\n",
       "      <th>skew_X</th>\n",
       "      <th>skew_Y</th>\n",
       "      <th>skew_Z</th>\n",
       "      <th>label</th>\n",
       "    </tr>\n",
       "  </thead>\n",
       "  <tbody>\n",
       "    <tr>\n",
       "      <td>count</td>\n",
       "      <td>3392.000000</td>\n",
       "      <td>3392.000000</td>\n",
       "      <td>3392.000000</td>\n",
       "      <td>3392.000000</td>\n",
       "      <td>3392.000000</td>\n",
       "      <td>3392.000000</td>\n",
       "      <td>3392.000000</td>\n",
       "      <td>3392.000000</td>\n",
       "      <td>3392.000000</td>\n",
       "      <td>3392.000000</td>\n",
       "      <td>3392.000000</td>\n",
       "    </tr>\n",
       "    <tr>\n",
       "      <td>mean</td>\n",
       "      <td>1.557783</td>\n",
       "      <td>0.054959</td>\n",
       "      <td>0.447620</td>\n",
       "      <td>-0.651157</td>\n",
       "      <td>0.123245</td>\n",
       "      <td>0.187578</td>\n",
       "      <td>0.142528</td>\n",
       "      <td>0.077772</td>\n",
       "      <td>-0.312814</td>\n",
       "      <td>0.080132</td>\n",
       "      <td>18.022406</td>\n",
       "    </tr>\n",
       "    <tr>\n",
       "      <td>std</td>\n",
       "      <td>0.778030</td>\n",
       "      <td>0.388840</td>\n",
       "      <td>0.312851</td>\n",
       "      <td>0.324377</td>\n",
       "      <td>0.194087</td>\n",
       "      <td>0.243495</td>\n",
       "      <td>0.157329</td>\n",
       "      <td>1.343203</td>\n",
       "      <td>1.421147</td>\n",
       "      <td>1.385535</td>\n",
       "      <td>7.479931</td>\n",
       "    </tr>\n",
       "    <tr>\n",
       "      <td>min</td>\n",
       "      <td>1.000000</td>\n",
       "      <td>-1.947167</td>\n",
       "      <td>-0.661246</td>\n",
       "      <td>-1.026765</td>\n",
       "      <td>0.000907</td>\n",
       "      <td>0.001363</td>\n",
       "      <td>0.001035</td>\n",
       "      <td>-7.353765</td>\n",
       "      <td>-9.807089</td>\n",
       "      <td>-9.975664</td>\n",
       "      <td>11.000000</td>\n",
       "    </tr>\n",
       "    <tr>\n",
       "      <td>25%</td>\n",
       "      <td>1.000000</td>\n",
       "      <td>-0.005150</td>\n",
       "      <td>0.183626</td>\n",
       "      <td>-0.936969</td>\n",
       "      <td>0.029277</td>\n",
       "      <td>0.058083</td>\n",
       "      <td>0.040235</td>\n",
       "      <td>-0.545092</td>\n",
       "      <td>-0.895354</td>\n",
       "      <td>-0.442138</td>\n",
       "      <td>12.000000</td>\n",
       "    </tr>\n",
       "    <tr>\n",
       "      <td>50%</td>\n",
       "      <td>1.000000</td>\n",
       "      <td>0.157742</td>\n",
       "      <td>0.498394</td>\n",
       "      <td>-0.752206</td>\n",
       "      <td>0.060948</td>\n",
       "      <td>0.119271</td>\n",
       "      <td>0.077083</td>\n",
       "      <td>0.004183</td>\n",
       "      <td>-0.137829</td>\n",
       "      <td>0.068385</td>\n",
       "      <td>15.000000</td>\n",
       "    </tr>\n",
       "    <tr>\n",
       "      <td>75%</td>\n",
       "      <td>2.000000</td>\n",
       "      <td>0.269421</td>\n",
       "      <td>0.689643</td>\n",
       "      <td>-0.439086</td>\n",
       "      <td>0.141531</td>\n",
       "      <td>0.252981</td>\n",
       "      <td>0.200154</td>\n",
       "      <td>0.617681</td>\n",
       "      <td>0.381197</td>\n",
       "      <td>0.642731</td>\n",
       "      <td>21.000000</td>\n",
       "    </tr>\n",
       "    <tr>\n",
       "      <td>max</td>\n",
       "      <td>3.000000</td>\n",
       "      <td>1.215402</td>\n",
       "      <td>1.915593</td>\n",
       "      <td>0.632189</td>\n",
       "      <td>2.975713</td>\n",
       "      <td>3.294644</td>\n",
       "      <td>2.457588</td>\n",
       "      <td>9.550874</td>\n",
       "      <td>9.634598</td>\n",
       "      <td>9.903299</td>\n",
       "      <td>33.000000</td>\n",
       "    </tr>\n",
       "  </tbody>\n",
       "</table>\n",
       "</div>"
      ],
      "text/plain": [
       "          location       mean_X       mean_Y       mean_Z        std_X  \\\n",
       "count  3392.000000  3392.000000  3392.000000  3392.000000  3392.000000   \n",
       "mean      1.557783     0.054959     0.447620    -0.651157     0.123245   \n",
       "std       0.778030     0.388840     0.312851     0.324377     0.194087   \n",
       "min       1.000000    -1.947167    -0.661246    -1.026765     0.000907   \n",
       "25%       1.000000    -0.005150     0.183626    -0.936969     0.029277   \n",
       "50%       1.000000     0.157742     0.498394    -0.752206     0.060948   \n",
       "75%       2.000000     0.269421     0.689643    -0.439086     0.141531   \n",
       "max       3.000000     1.215402     1.915593     0.632189     2.975713   \n",
       "\n",
       "             std_Y        std_Z       skew_X       skew_Y       skew_Z  \\\n",
       "count  3392.000000  3392.000000  3392.000000  3392.000000  3392.000000   \n",
       "mean      0.187578     0.142528     0.077772    -0.312814     0.080132   \n",
       "std       0.243495     0.157329     1.343203     1.421147     1.385535   \n",
       "min       0.001363     0.001035    -7.353765    -9.807089    -9.975664   \n",
       "25%       0.058083     0.040235    -0.545092    -0.895354    -0.442138   \n",
       "50%       0.119271     0.077083     0.004183    -0.137829     0.068385   \n",
       "75%       0.252981     0.200154     0.617681     0.381197     0.642731   \n",
       "max       3.294644     2.457588     9.550874     9.634598     9.903299   \n",
       "\n",
       "             label  \n",
       "count  3392.000000  \n",
       "mean     18.022406  \n",
       "std       7.479931  \n",
       "min      11.000000  \n",
       "25%      12.000000  \n",
       "50%      15.000000  \n",
       "75%      21.000000  \n",
       "max      33.000000  "
      ]
     },
     "execution_count": 4,
     "metadata": {},
     "output_type": "execute_result"
    }
   ],
   "source": [
    "data.describe() #statistical details of the dataset"
   ]
  },
  {
   "cell_type": "code",
   "execution_count": 5,
   "metadata": {
    "scrolled": false
   },
   "outputs": [
    {
     "data": {
      "image/png": "[encoded data removed]",
      "text/plain": [
       "<Figure size 432x288 with 1 Axes>"
      ]
     },
     "metadata": {
      "needs_background": "light"
     },
     "output_type": "display_data"
    }
   ],
   "source": [
    "data.plot(x='mean_X', y='std_X', style='o')  \n",
    "plt.title('mean_x VS std_X')  \n",
    "plt.xlabel('mean_x')  \n",
    "plt.ylabel('std_X')  \n",
    "plt.show() #This will show if there is any relation between these two attribute "
   ]
  },
  {
   "cell_type": "code",
   "execution_count": 6,
   "metadata": {},
   "outputs": [
    {
     "data": {
      "text/plain": [
       "<matplotlib.axes._subplots.AxesSubplot at 0x2a3090a7128>"
      ]
     },
     "execution_count": 6,
     "metadata": {},
     "output_type": "execute_result"
    },
    {
     "data": {
      "image/png": "[encoded data removed]",
      "text/plain": [
       "<Figure size 432x288 with 1 Axes>"
      ]
     },
     "metadata": {
      "needs_background": "light"
     },
     "output_type": "display_data"
    }
   ],
   "source": [
    "\n",
    "data.plot(kind=\"scatter\", x=\"mean_X\", y= \"std_X\", color='red', marker='+') #YOu can get the graph this way too\n",
    "#data.plot(kind=\"scatter\", x=\"bedrooms\", y= \"price\", color='red', marker='+') #If you choose another attribute like bedrooms"
   ]
  },
  {
   "cell_type": "code",
   "execution_count": 7,
   "metadata": {},
   "outputs": [
    {
     "data": {
      "text/plain": [
       "<Figure size 1080x720 with 0 Axes>"
      ]
     },
     "metadata": {},
     "output_type": "display_data"
    }
   ],
   "source": [
    "plt.figure(figsize=(15,10))\n",
    "plt.tight_layout()\n",
    "#seabornInstance.distplot(data['label'])  #This Will get the average range of price... "
   ]
  },
  {
   "cell_type": "code",
   "execution_count": 8,
   "metadata": {},
   "outputs": [],
   "source": [
    "X = data.iloc[ : ,   : 10 ]\n",
    "y = data.iloc[ :,-1 ]"
   ]
  },
  {
   "cell_type": "code",
   "execution_count": 9,
   "metadata": {},
   "outputs": [],
   "source": [
    "#X = data[' '].values.reshape(-1,1)\n",
    "#X = pd.concat([location, mean_X, mean_Y, mean_Z, std_X,std_Y,std_Z,skew_X,skew_Y,skew_Z],axis=1)\n",
    "\n",
    "#y = data['label'].values.reshape(-1,1)"
   ]
  },
  {
   "cell_type": "code",
   "execution_count": 10,
   "metadata": {},
   "outputs": [],
   "source": [
    "X_train, X_test, y_train, y_test = train_test_split(X, y, test_size=0.2, random_state=0)"
   ]
  },
  {
   "cell_type": "code",
   "execution_count": 11,
   "metadata": {
    "scrolled": true
   },
   "outputs": [
    {
     "data": {
      "text/plain": [
       "LinearRegression(copy_X=True, fit_intercept=True, n_jobs=None, normalize=False)"
      ]
     },
     "execution_count": 11,
     "metadata": {},
     "output_type": "execute_result"
    }
   ],
   "source": [
    "reg = LinearRegression() \n",
    "reg.fit(X_train, y_train) #Train the dataset for sqft_living with price"
   ]
  },
  {
   "cell_type": "code",
   "execution_count": 12,
   "metadata": {},
   "outputs": [
    {
     "data": {
      "text/plain": [
       "array([13.16168629, 12.65690245, 21.95674002, 12.32378453, 12.64540856,\n",
       "       21.33615255, 12.69673482, 12.83954366, 12.8240448 , 13.08392996,\n",
       "       21.82982719, 13.13402333, 12.9942023 , 13.08006703, 21.33138508,\n",
       "       31.79663524, 12.73506056, 22.01133069, 13.00905471, 12.97569731,\n",
       "       13.09714844, 12.51977787, 32.11402201, 12.80824221, 12.60625416,\n",
       "       21.97118621, 12.92561138, 32.45204461, 32.08051833, 31.72888869,\n",
       "       12.47966915, 31.43322485, 13.00773488, 13.02941314, 12.77226458,\n",
       "       13.04137896, 12.71230404, 22.17753531, 12.95664798, 13.09225033,\n",
       "       12.74393633, 12.97004827, 20.99644979, 12.17762751, 32.15641151,\n",
       "       21.25409846, 21.01729312, 32.07879376, 12.92692133, 13.08058141,\n",
       "       21.02120578, 12.81501199, 22.26041221, 12.43368586, 32.6666401 ,\n",
       "       13.04265005, 13.13813635, 12.90315549, 13.03255562, 12.99940895,\n",
       "       21.63684523, 31.54787916, 12.49423753, 12.53745591, 21.24100622,\n",
       "       31.52052258, 12.66083384, 32.40151035, 12.93616639, 22.66314815,\n",
       "       21.92461817, 12.92158151, 13.1690726 , 22.05343164, 12.26422139,\n",
       "       21.41018655, 12.60016916, 21.89009295, 12.65407483, 13.017362  ,\n",
       "       12.67725501, 12.74880121, 21.74257395, 32.31438361, 13.24554823,\n",
       "       12.98980108, 12.9007564 , 13.00234062, 12.84137457, 12.6428588 ,\n",
       "       12.96535502, 12.96442299, 13.00819901, 21.60219652, 12.64990909,\n",
       "       13.23398493, 20.63438617, 12.76690017, 13.00480599, 21.19934598,\n",
       "       22.32755739, 13.22642301, 21.99072413, 13.18088075, 12.9954645 ,\n",
       "       12.98118784, 31.38555125, 12.24257699, 13.0730059 , 12.76507745,\n",
       "       32.5779217 , 12.37569848, 21.54432785, 12.89616245, 13.015477  ,\n",
       "       12.79632904, 21.92043412, 21.79672916, 12.64046655, 12.99013331,\n",
       "       21.5339467 , 21.9413748 , 12.79342175, 32.53779007, 13.08293089,\n",
       "       13.27798787, 12.75995189, 13.0784739 , 12.9788191 , 32.56949623,\n",
       "       12.95787668, 31.34063369, 13.06750812, 21.84139278, 13.21287782,\n",
       "       12.60768695, 13.20152777, 31.99386296, 13.20664163, 13.18068662,\n",
       "       12.73315735, 12.94162697, 12.57420631, 22.33896911, 12.61327989,\n",
       "       12.94704669, 12.64223187, 12.82628485, 21.87974922, 12.98014773,\n",
       "       12.79311471, 12.63996384, 13.2126285 , 13.17396659, 21.79861014,\n",
       "       12.53774136, 12.98189736, 12.94723401, 12.93907841, 13.33892567,\n",
       "       21.39423378, 12.95938239, 12.73302307, 20.9147887 , 12.52036839,\n",
       "       32.82793272, 32.93062121, 13.0903074 , 13.01780858, 21.79774159,\n",
       "       30.15128921, 30.26286755, 13.15433608, 31.29447893, 12.90413672,\n",
       "       12.73291582, 13.14390728, 12.78471332, 21.69830667, 21.01127402,\n",
       "       13.39176927, 12.63260107, 12.85589668, 12.945537  , 21.4378561 ,\n",
       "       13.10716774, 22.3440286 , 13.00164109, 12.96622643, 13.19032826,\n",
       "       12.67600095, 12.89152743, 12.19903914, 32.05083463, 12.80291039,\n",
       "       32.75321936, 13.18496515, 13.07800594, 32.46758806, 21.97898479,\n",
       "       13.4035394 , 21.74921492, 12.9801028 , 13.05207173, 13.12854067,\n",
       "       22.23223935, 12.61233723, 13.06938887, 20.73353102, 12.95839914,\n",
       "       32.26292696, 32.24365062, 12.87982884, 13.16223062, 32.7062533 ,\n",
       "       12.8697514 , 21.60791306, 21.58888677, 21.52323391, 22.25531583,\n",
       "       12.94019783, 13.11035298, 12.94589826, 13.17541875, 32.73493195,\n",
       "       31.48598652, 13.00696299, 12.89673022, 12.87955263, 13.25639376,\n",
       "       32.57914642, 12.45635519, 12.62241065, 12.37580938, 31.55098135,\n",
       "       31.7761763 , 12.58409032, 12.85556069, 12.89467304, 30.3118978 ,\n",
       "       13.06896677, 13.06906015, 12.88852812, 21.7909682 , 12.65948571,\n",
       "       12.92978593, 12.52461446, 30.98895878, 12.68266661, 13.09155134,\n",
       "       12.75301787, 21.30149695, 21.10263224, 21.1390134 , 13.17816145,\n",
       "       12.99559834, 12.64484657, 12.27664878, 13.45289379, 13.16782397,\n",
       "       12.59189537, 31.82318864, 21.8454227 , 12.78224883, 21.25861174,\n",
       "       32.6000271 , 32.52164001, 13.0497642 , 12.89730215, 31.42038185,\n",
       "       12.99699395, 32.59543303, 12.67373899, 32.76618457, 12.67779561,\n",
       "       12.7198609 , 12.66708894, 21.99162723, 13.0380338 , 21.68742519,\n",
       "       21.94551419, 21.34119527, 21.40912726, 12.6763563 , 12.35142446,\n",
       "       13.11684797, 12.78358129, 31.80625204, 12.31736982, 12.81099181,\n",
       "       13.06059084, 13.01600555, 12.86483879, 21.2853152 , 13.02835707,\n",
       "       13.11640273, 21.38270935, 12.76272627, 12.78045734, 12.85445729,\n",
       "       13.02342974, 12.94469254, 31.63680313, 30.56671446, 12.77724734,\n",
       "       21.77307661, 13.02249177, 13.27739938, 22.09075863, 13.13459958,\n",
       "       12.88008099, 13.124322  , 13.13390416, 22.05281523, 31.60633759,\n",
       "       13.01947912, 12.57855135, 12.42119092, 12.61183743, 21.82052641,\n",
       "       32.02432382, 13.26253021, 12.93711903, 30.31981533, 21.81108563,\n",
       "       32.29709943, 12.47759846, 13.04461502, 31.51051016, 32.1265642 ,\n",
       "       12.94635872, 31.61957794, 12.87059064, 13.07226804, 13.13442497,\n",
       "       12.6285491 , 13.19819587, 21.94768743, 13.49330164, 13.17643742,\n",
       "       32.66050639, 12.87216183, 32.12796302, 33.13947623, 32.61253409,\n",
       "       12.31028498, 12.25544417, 12.89141098, 12.48243604, 12.87436894,\n",
       "       12.95245661, 12.98112888, 13.15559908, 31.96090817, 13.12573462,\n",
       "       12.65395753, 31.65797348, 12.07808463, 12.55220795, 12.68664214,\n",
       "       12.86429043, 12.90436179, 12.77050975, 32.49665726, 12.57357279,\n",
       "       21.77434654, 31.35795234, 32.58618284, 13.0491313 , 13.10936379,\n",
       "       12.73303972, 13.03500886, 12.94101032, 12.72543058, 21.88214023,\n",
       "       12.95116554, 21.40276205, 21.13792333, 31.36107216, 21.52239843,\n",
       "       12.66424617, 32.46884495, 12.71429247, 20.99063988, 12.68340585,\n",
       "       13.14680672, 12.44229184, 31.43217727, 12.70367856, 12.72961294,\n",
       "       32.31561974, 13.03753107, 12.97260136, 32.68982824, 31.72360908,\n",
       "       13.03673206, 12.51605411, 13.20119149, 12.94988115, 32.15464717,\n",
       "       12.71393526, 13.02716902, 12.81029208, 22.04460294, 12.97040247,\n",
       "       13.19071594, 31.9649513 , 12.74413711, 21.4441566 , 12.97856953,\n",
       "       21.17936284, 32.57010014, 21.20168885, 30.31723909, 12.76647351,\n",
       "       12.91133263, 21.68767067, 12.67295818, 12.14212094, 13.02607978,\n",
       "       13.15665597, 12.6356209 , 21.31736967, 31.48115922, 12.997988  ,\n",
       "       12.57819029, 32.47043534, 21.5155329 , 13.11517838, 13.33546285,\n",
       "       12.80431198, 22.19047568, 12.21152353, 12.82572509, 21.84543962,\n",
       "       12.67225475, 13.0716719 , 21.88647792, 31.71000138, 21.21340324,\n",
       "       32.12367636, 12.72390805, 12.53176421, 12.8314921 , 21.37281866,\n",
       "       13.33035408, 12.55473842, 13.16596269, 12.90882823, 12.68795646,\n",
       "       12.7859328 , 12.974877  , 12.64141326, 12.63775785, 21.78884099,\n",
       "       13.0740346 , 13.04157353, 32.20363473, 12.67176874, 12.76627323,\n",
       "       32.3598497 , 21.87661563, 13.10062943, 21.23373249, 21.56159166,\n",
       "       12.66542132, 32.26760027, 21.69930955, 13.05553903, 31.065024  ,\n",
       "       12.90290147, 12.70351732, 32.20207973, 12.90878969, 13.17202838,\n",
       "       21.53056578, 31.04079579, 30.69206303, 12.75929582, 12.72936245,\n",
       "       12.51489063, 32.23566011, 21.67816627, 21.81086579, 12.80538292,\n",
       "       32.72762515, 32.41327819, 12.95911206, 13.01190301, 12.35978006,\n",
       "       13.01048008, 13.07393242, 12.9162227 , 12.87986449, 21.89167124,\n",
       "       13.28939981, 13.15418468, 31.66010441, 31.32883519, 13.15384179,\n",
       "       12.94378521, 21.48427395, 12.95966504, 13.02275111, 21.46771173,\n",
       "       12.95013726, 13.22629598, 31.98341128, 32.12607272, 12.54920414,\n",
       "       12.82739032, 12.51339578, 12.65992395, 11.76721339, 12.76172681,\n",
       "       13.02697261, 13.41474618, 13.01145821, 31.31004931, 32.25671592,\n",
       "       32.37555039, 13.10409018, 32.66038819, 13.0376112 , 12.68336865,\n",
       "       12.91864836, 13.15424729, 12.87421302, 12.93218365, 13.03730771,\n",
       "       32.06326663, 13.14227765, 21.85222747, 13.13944842, 12.86575162,\n",
       "       12.9188116 , 12.97443861, 11.94396085, 12.8194107 , 21.39874362,\n",
       "       12.93337935, 12.82231868, 13.05195584, 22.59420151, 13.03410138,\n",
       "       21.79685478, 21.97310787, 31.99193504, 13.01945125, 13.12617166,\n",
       "       32.74696199, 31.87140975, 30.27730586, 22.09331079, 13.03055824,\n",
       "       31.47412528, 12.8421629 , 12.82292216, 22.90386473, 32.55204927,\n",
       "       12.57151696, 12.74680443, 32.00449021, 21.81285392, 12.83973883,\n",
       "       22.06810065, 12.78090191, 12.7091978 , 13.31584891, 12.74718424,\n",
       "       22.32601855, 32.7021962 , 21.63160908, 12.95987514, 12.54147188,\n",
       "       13.05328964, 21.44734103, 13.01126041, 21.75343883, 13.0063798 ,\n",
       "       12.54661517, 31.41281701, 12.84424442, 31.36166711, 13.12022547,\n",
       "       21.91033545, 32.38485043, 21.88480361, 12.74621094, 21.85883128,\n",
       "       12.69494638, 12.35173012, 12.40432049, 12.82647962, 12.59311833,\n",
       "       21.30341134, 12.95347615, 12.28604114, 13.06801061, 12.76465573,\n",
       "       32.67292785, 12.71961914, 13.29008405, 22.02103848, 22.25584453,\n",
       "       12.59755101, 13.03187574, 20.90075114, 31.73923351, 12.8375655 ,\n",
       "       32.36700386, 12.97918985, 13.04052082, 12.50682638, 12.65517312,\n",
       "       12.50929981, 12.5131184 , 12.56675621, 31.71687234, 13.20590918,\n",
       "       12.98494767, 21.32936077, 32.5562383 , 32.40037402, 21.77925587,\n",
       "       12.84682242, 12.84789026, 12.8070893 , 32.54167517, 13.16615292,\n",
       "       30.32448305, 11.93357791, 22.19460088, 13.0103538 , 12.87183116,\n",
       "       12.98640808, 12.82433792, 12.79175911, 32.54319369, 32.5026415 ,\n",
       "       12.77960564, 31.767462  , 13.01259578, 12.32446074, 12.79100148,\n",
       "       22.01328661, 12.80185449, 13.07144515, 30.32157809, 21.50805539,\n",
       "       12.75566574, 22.06365986, 13.20980672, 13.16646223, 12.43944248,\n",
       "       32.14642579, 13.13368323, 31.88257283, 12.69726598, 12.07245228,\n",
       "       12.94429581, 13.18029526, 21.40276937, 32.69303395, 12.62918416,\n",
       "       12.61112111, 13.03003165, 31.82603928, 13.35931887, 20.95752987,\n",
       "       32.42468811, 12.5492492 , 13.12285656, 12.86324201, 12.67427161,\n",
       "       12.55098796, 13.20667039, 21.60158367, 12.67841316])"
      ]
     },
     "execution_count": 12,
     "metadata": {},
     "output_type": "execute_result"
    }
   ],
   "source": [
    "y_pred = reg.predict(X_test)\n",
    "y_pred"
   ]
  },
  {
   "cell_type": "code",
   "execution_count": 16,
   "metadata": {},
   "outputs": [
    {
     "data": {
      "text/html": [
       "<div>\n",
       "<style scoped>\n",
       "    .dataframe tbody tr th:only-of-type {\n",
       "        vertical-align: middle;\n",
       "    }\n",
       "\n",
       "    .dataframe tbody tr th {\n",
       "        vertical-align: top;\n",
       "    }\n",
       "\n",
       "    .dataframe thead th {\n",
       "        text-align: right;\n",
       "    }\n",
       "</style>\n",
       "<table border=\"1\" class=\"dataframe\">\n",
       "  <thead>\n",
       "    <tr style=\"text-align: right;\">\n",
       "      <th></th>\n",
       "      <th>Actual</th>\n",
       "      <th>Predicted</th>\n",
       "    </tr>\n",
       "  </thead>\n",
       "  <tbody>\n",
       "    <tr>\n",
       "      <td>1363</td>\n",
       "      <td>14</td>\n",
       "      <td>13.161686</td>\n",
       "    </tr>\n",
       "    <tr>\n",
       "      <td>333</td>\n",
       "      <td>11</td>\n",
       "      <td>12.656902</td>\n",
       "    </tr>\n",
       "    <tr>\n",
       "      <td>2175</td>\n",
       "      <td>21</td>\n",
       "      <td>21.956740</td>\n",
       "    </tr>\n",
       "    <tr>\n",
       "      <td>628</td>\n",
       "      <td>12</td>\n",
       "      <td>12.323785</td>\n",
       "    </tr>\n",
       "    <tr>\n",
       "      <td>1880</td>\n",
       "      <td>15</td>\n",
       "      <td>12.645409</td>\n",
       "    </tr>\n",
       "    <tr>\n",
       "      <td>...</td>\n",
       "      <td>...</td>\n",
       "      <td>...</td>\n",
       "    </tr>\n",
       "    <tr>\n",
       "      <td>37</td>\n",
       "      <td>11</td>\n",
       "      <td>12.674272</td>\n",
       "    </tr>\n",
       "    <tr>\n",
       "      <td>1544</td>\n",
       "      <td>14</td>\n",
       "      <td>12.550988</td>\n",
       "    </tr>\n",
       "    <tr>\n",
       "      <td>1894</td>\n",
       "      <td>15</td>\n",
       "      <td>13.206670</td>\n",
       "    </tr>\n",
       "    <tr>\n",
       "      <td>2434</td>\n",
       "      <td>21</td>\n",
       "      <td>21.601584</td>\n",
       "    </tr>\n",
       "    <tr>\n",
       "      <td>675</td>\n",
       "      <td>12</td>\n",
       "      <td>12.678413</td>\n",
       "    </tr>\n",
       "  </tbody>\n",
       "</table>\n",
       "<p>679 rows × 2 columns</p>\n",
       "</div>"
      ],
      "text/plain": [
       "      Actual  Predicted\n",
       "1363      14  13.161686\n",
       "333       11  12.656902\n",
       "2175      21  21.956740\n",
       "628       12  12.323785\n",
       "1880      15  12.645409\n",
       "...      ...        ...\n",
       "37        11  12.674272\n",
       "1544      14  12.550988\n",
       "1894      15  13.206670\n",
       "2434      21  21.601584\n",
       "675       12  12.678413\n",
       "\n",
       "[679 rows x 2 columns]"
      ]
     },
     "execution_count": 16,
     "metadata": {},
     "output_type": "execute_result"
    }
   ],
   "source": [
    "df = pd.DataFrame({'Actual': y_test, 'Predicted': y_pred})\n",
    "df"
   ]
  },
  {
   "cell_type": "code",
   "execution_count": 17,
   "metadata": {},
   "outputs": [
    {
     "data": {
      "image/png": "[encoded data removed]",
      "text/plain": [
       "<Figure size 1152x720 with 1 Axes>"
      ]
     },
     "metadata": {
      "needs_background": "light"
     },
     "output_type": "display_data"
    }
   ],
   "source": [
    "df1 = df.head(25)\n",
    "df1.plot(kind='bar',figsize=(16,10))\n",
    "plt.grid(which='major', linestyle='-', linewidth='0.5', color='green')\n",
    "plt.grid(which='minor', linestyle=':', linewidth='0.5', color='black')\n",
    "plt.show() "
   ]
  },
  {
   "cell_type": "code",
   "execution_count": null,
   "metadata": {},
   "outputs": [],
   "source": [
    "#plt.scatter(X_test, y_test,  color='gray')\n",
    "#plt.plot(X_test, y_pred, color='red', linewidth=2)\n",
    "#plt.show()"
   ]
  },
  {
   "cell_type": "code",
   "execution_count": null,
   "metadata": {},
   "outputs": [],
   "source": [
    "#y_pred = reg.predict([[1,-0.099574,-0.008085,-1.003562,0.076271,0.119020,0.059293,-0.111909,-0.189929,-0.381072]]) #For a random value input\n",
    "#y_pred\n"
   ]
  },
  {
   "cell_type": "code",
   "execution_count": null,
   "metadata": {},
   "outputs": [],
   "source": [
    "X.shape\n",
    "y_test.shape"
   ]
  },
  {
   "cell_type": "code",
   "execution_count": null,
   "metadata": {},
   "outputs": [],
   "source": [
    "y.shape\n",
    "y_pred.shape"
   ]
  },
  {
   "cell_type": "code",
   "execution_count": null,
   "metadata": {},
   "outputs": [],
   "source": [
    "from sklearn.metrics import confusion_matrix, accuracy_score,f1_score,precision_score,recall_score\n",
    "from sklearn.metrics import classification_report\n",
    "from sklearn.metrics import precision_recall_curve\n",
    "\n",
    "#c = confusion_matrix(y_test,y_pred)\n",
    "#f1 = f1_score(y_test,y_pred,average=\"micro\")\n",
    "#p = precision_score(y_test, y_pred, average=\"macro\")\n",
    "#r = recall_score(y_test,y_pred,average=\"macro\")\n",
    "\n",
    "'''print(\"F1 score: \", f1)\n",
    "print(\"Precision: \" , p)\n",
    "print(\"recall: \" , r)\n",
    "print(\"\\nconfusion matrix: \\n\" , c)'''"
   ]
  },
  {
   "cell_type": "code",
   "execution_count": null,
   "metadata": {},
   "outputs": [],
   "source": []
  },
  {
   "cell_type": "code",
   "execution_count": null,
   "metadata": {},
   "outputs": [],
   "source": []
  }
 ],
 "metadata": {
  "kernelspec": {
   "display_name": "Python 3",
   "language": "python",
   "name": "python3"
  },
  "language_info": {
   "codemirror_mode": {
    "name": "ipython",
    "version": 3
   },
   "file_extension": ".py",
   "mimetype": "text/x-python",
   "name": "python",
   "nbconvert_exporter": "python",
   "pygments_lexer": "ipython3",
   "version": "3.6.9"
  }
 },
 "nbformat": 4,
 "nbformat_minor": 2
}
